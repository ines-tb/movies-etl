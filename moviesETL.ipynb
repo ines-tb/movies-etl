{
 "metadata": {
  "language_info": {
   "codemirror_mode": {
    "name": "ipython",
    "version": 3
   },
   "file_extension": ".py",
   "mimetype": "text/x-python",
   "name": "python",
   "nbconvert_exporter": "python",
   "pygments_lexer": "ipython3",
   "version": "3.7.6-final"
  },
  "orig_nbformat": 2,
  "kernelspec": {
   "name": "pythondata",
   "display_name": "PythonData"
  }
 },
 "nbformat": 4,
 "nbformat_minor": 2,
 "cells": [
  {
   "cell_type": "code",
   "execution_count": 1,
   "metadata": {},
   "outputs": [],
   "source": [
    "import json\n",
    "import pandas as pd\n",
    "import numpy as np"
   ]
  },
  {
   "cell_type": "code",
   "execution_count": 2,
   "metadata": {},
   "outputs": [],
   "source": [
    "# *****************************************\n",
    "#              Extract phase              \n",
    "# *****************************************\n",
    "\n",
    "fileDir=\"./data/\""
   ]
  },
  {
   "cell_type": "code",
   "execution_count": 3,
   "metadata": {},
   "outputs": [
    {
     "output_type": "execute_result",
     "data": {
      "text/plain": "7311"
     },
     "metadata": {},
     "execution_count": 3
    }
   ],
   "source": [
    "with open(f\"{fileDir}wikipedia.movies.json\", mode=\"r\") as file:\n",
    "    # Store the json content as a list\n",
    "    wikiMoviesRaw = json.load(file)\n",
    "\n",
    "# Check loaded records\n",
    "len(wikiMoviesRaw)"
   ]
  },
  {
   "cell_type": "code",
   "execution_count": 4,
   "metadata": {},
   "outputs": [
    {
     "output_type": "execute_result",
     "data": {
      "text/plain": "[{'url': 'https://en.wikipedia.org/wiki/The_Adventures_of_Ford_Fairlane',\n  'year': 1990,\n  'imdb_link': 'https://www.imdb.com/title/tt0098987/',\n  'title': 'The Adventures of Ford Fairlane',\n  'Directed by': 'Renny Harlin',\n  'Produced by': ['Steve Perry', 'Joel Silver'],\n  'Screenplay by': ['David Arnott', 'James Cappe', 'Daniel Waters'],\n  'Story by': ['David Arnott', 'James Cappe'],\n  'Based on': ['Characters', 'by Rex Weiner'],\n  'Starring': ['Andrew Dice Clay',\n   'Wayne Newton',\n   'Priscilla Presley',\n   'Lauren Holly',\n   'Morris Day',\n   'Robert Englund',\n   \"Ed O'Neill\"],\n  'Narrated by': 'Andrew \"Dice\" Clay',\n  'Music by': ['Cliff Eidelman', 'Yello'],\n  'Cinematography': 'Oliver Wood',\n  'Edited by': 'Michael Tronick',\n  'Productioncompany ': 'Silver Pictures',\n  'Distributed by': '20th Century Fox',\n  'Release date': ['July 11, 1990', '(', '1990-07-11', ')'],\n  'Running time': '102 minutes',\n  'Country': 'United States',\n  'Language': 'English',\n  'Budget': '$20 million',\n  'Box office': '$21.4 million'},\n {'url': 'https://en.wikipedia.org/wiki/After_Dark,_My_Sweet',\n  'year': 1990,\n  'imdb_link': 'https://www.imdb.com/title/tt0098994/',\n  'title': 'After Dark, My Sweet',\n  'Directed by': 'James Foley',\n  'Produced by': ['Ric Kidney', 'Robert Redlin'],\n  'Screenplay by': ['James Foley', 'Robert Redlin'],\n  'Based on': ['the novel', 'After Dark, My Sweet', 'by', 'Jim Thompson'],\n  'Starring': ['Jason Patric',\n   'Rachel Ward',\n   'Bruce Dern',\n   'George Dickerson'],\n  'Music by': 'Maurice Jarre',\n  'Cinematography': 'Mark Plummer',\n  'Edited by': 'Howard E. Smith',\n  'Productioncompany ': 'Avenue Pictures',\n  'Distributed by': 'Avenue Pictures',\n  'Release date': ['May 17, 1990',\n   '(',\n   '1990-05-17',\n   ')',\n   '(Cannes Film Market)',\n   'August 24, 1990',\n   '(',\n   '1990-08-24',\n   ')',\n   '(United States)'],\n  'Running time': '114 minutes',\n  'Country': 'United States',\n  'Language': 'English',\n  'Budget': '$6 million',\n  'Box office': '$2.7 million'},\n {'url': 'https://en.wikipedia.org/wiki/Air_America_(film)',\n  'year': 1990,\n  'imdb_link': 'https://www.imdb.com/title/tt0099005/',\n  'title': 'Air America',\n  'Directed by': 'Roger Spottiswoode',\n  'Produced by': 'Daniel Melnick',\n  'Screenplay by': ['John Eskow', 'Richard Rush'],\n  'Based on': ['Air America', 'by', 'Christopher Robbins'],\n  'Starring': ['Mel Gibson',\n   'Robert Downey Jr.',\n   'Nancy Travis',\n   'David Marshall Grant',\n   'Lane Smith'],\n  'Music by': 'Charles Gross',\n  'Cinematography': 'Roger Deakins',\n  'Edited by': ['John Bloom', 'Lois Freeman-Fox'],\n  'Productioncompany ': ['Carolco Pictures', 'IndieProd Company'],\n  'Distributed by': 'TriStar Pictures',\n  'Release date': ['August 10, 1990', '(', '1990-08-10', ')'],\n  'Running time': '113 minutes',\n  'Country': 'United States',\n  'Language': ['English', 'Lao'],\n  'Budget': '$35 million',\n  'Box office': '$57,718,089'},\n {'url': 'https://en.wikipedia.org/wiki/Alice_(1990_film)',\n  'year': 1990,\n  'imdb_link': 'https://www.imdb.com/title/tt0099012/',\n  'title': 'Alice',\n  'Directed by': 'Woody Allen',\n  'Produced by': 'Robert Greenhut',\n  'Written by': 'Woody Allen',\n  'Starring': ['Alec Baldwin',\n   'Blythe Danner',\n   'Judy Davis',\n   'Mia Farrow',\n   'William Hurt',\n   'Keye Luke',\n   'Joe Mantegna',\n   'Bernadette Peters'],\n  'Cinematography': 'Carlo Di Palma',\n  'Edited by': 'Susan E. Morse',\n  'Distributed by': 'Orion Pictures',\n  'Release date': ['December 25, 1990', '(', '1990-12-25', ')'],\n  'Running time': '106 minutes',\n  'Country': 'United States',\n  'Language': 'English',\n  'Budget': '$12 million',\n  'Box office': '$7,331,647'},\n {'url': 'https://en.wikipedia.org/wiki/Almost_an_Angel',\n  'year': 1990,\n  'imdb_link': 'https://www.imdb.com/title/tt0099018/',\n  'title': 'Almost an Angel',\n  'Directed by': 'John Cornell',\n  'Produced by': 'John Cornell',\n  'Written by': 'Paul Hogan',\n  'Starring': ['Paul Hogan', 'Elias Koteas', 'Linda Kozlowski'],\n  'Music by': 'Maurice Jarre',\n  'Cinematography': 'Russell Boyd',\n  'Edited by': 'David Stiven',\n  'Distributed by': 'Paramount Pictures',\n  'Release date': 'December 19, 1990',\n  'Running time': '95 minutes',\n  'Country': 'US',\n  'Language': 'English',\n  'Budget': '$25 million',\n  'Box office': '$6,939,946 (USA)'}]"
     },
     "metadata": {},
     "execution_count": 4
    }
   ],
   "source": [
    "# Check first 5 records\n",
    "wikiMoviesRaw[:5]"
   ]
  },
  {
   "cell_type": "code",
   "execution_count": 5,
   "metadata": {},
   "outputs": [
    {
     "output_type": "execute_result",
     "data": {
      "text/plain": "$190,000'},\n {'url': 'https://en.wikipedia.org/wiki/Disclosure_(film)',\n  'year': 1994,\n  'imdb_link': 'https://www.imdb.com/title/tt0109635/',\n  'title': 'Disclosure',\n  'Directed by': 'Barry Levinson',\n  'Produced by': ['Michael Crichton', 'Barry Levinson'],\n  'Written by': 'Paul Attanasio',\n  'Based on': ['Disclosure', 'by Michael Crichton'],\n  'Starring': ['Michael Douglas',\n   'Demi Moore',\n   'Donald Sutherland',\n   'Caroline Goodall',\n   'Dennis Miller'],\n  'Music by': 'Ennio Morricone',\n  'Cinematography': 'Tony Pierce-Roberts',\n  'Edited by': 'Stu Linder',\n  'Distributed by': 'Warner Bros.',\n  'Release date': ['December 9, 1994', '(', '1994-12-09', ')'],\n  'Running time': '128 minutes',\n  'Country': 'United States',\n  'Language': 'English',\n  'Budget': '$55 million',\n  'Box office': '$214 million'},\n {'url': 'https://en.wikipedia.org/wiki/Don%27t_Drink_the_Water_(1994_film)',\n  'year': 1994,\n  'imdb_link': 'https://www.imdb.com/title/tt0109644/',\n  'title': \"Don't Drink the Water\",\n  'Genre': 'Comedy',\n  'Written by': 'Woody Allen',\n  'Directed by': 'Woody Allen',\n  'Starring': ['Woody Allen',\n   'Mayim Bialik',\n   'Michael J. Fox',\n   'Dom DeLuise',\n   'Julie Kavner',\n   'Edward Herrmann'],\n  'Narrated by': 'Ed Herlihy',\n  'Country of origin': 'United States',\n  'Original language(s)': 'English',\n  'Executive producer(s)': ['J.E. Beaucaire',\n   'Jean Doumanian',\n   'Letty Aronson',\n   '(co-executive producer)'],\n  'Producer(s)': 'Robert Greenhut',\n  'Cinematography': 'Carlo Di Palma',\n  'Editor(s)': 'Susan E. Morse',\n  'Running time': '92 minutes',\n  'Production company(s)': ['Jean Doumanian Productions',\n   'Magnolia Productions',\n   'Sweetland Films'],\n  'Distributor': 'ABC',\n  'Original network': 'ABC',\n  'Picture format': 'Color',\n  'Audio format': 'Stereo',\n  'Original release': ['December 18, 1994', '(', '1994-12-18', ')']},\n {'url': 'https://en.wikipedia.org/wiki/Doomsday_Gun',\n  'year': 1994,\n  'imdb_link': 'https://www.imdb.com/title/tt0109650/',\n  'title': 'Doomsday Gun',\n  'Written by': ['Walter Bernstein', 'Lionel Chetwynd'],\n  'Directed by': 'Robert Young',\n  'Starring': ['Frank Langella', 'Alan Arkin', 'Kevin Spacey'],\n  'Theme music composer': 'Richard Harvey',\n  'Country of origin': ['United Kingdom', 'United States'],\n  'Original language(s)': 'English',\n  'Producer(s)': 'Adam Clapham',\n  'Editor(s)': 'Tariq Anwar',\n  'Running time': '106 minutes',\n  'Production company(s)': 'HBO Showcase',\n  'Distributor': 'HBO',\n  'Original network': 'HBO',\n  'Original release': ['July 23, 1994', '(', '1994-07-23', ')']},\n {'url': 'https://en.wikipedia.org/wiki/Double_Dragon_(film)',\n  'year': 1994,\n  'imdb_link': 'https://www.imdb.com/title/tt0106761/',\n  'title': 'Double Dragon',\n  'Directed by': ['James Yukich', '(as James Nickson)'],\n  'Produced by': ['Sunil R. Shah',\n   'Ash R. Shah',\n   'Alan Schechter',\n   'Jane Hamsher',\n   'Don Murphy'],\n  'Screenplay by': ['Michael Davis', 'Peter Gould'],\n  'Story by': ['Paul Dini', 'Neal Shusterman'],\n  'Based on': ['Double Dragon', 'by', 'Technōs Japan'],\n  'Starring': ['Robert Patrick',\n   'Mark Dacascos',\n   'Scott Wolf',\n   'Julia Nickson',\n   'Alyssa Milano'],\n  'Music by': ['Jay Ferguson', 'Tolga Katas'],\n  'Cinematography': 'Gary B. Kibbe',\n  'Edited by': 'Florent Retz',\n  'Productioncompany ': 'Imperial Entertainment Group',\n  'Distributed by': 'Gramercy Pictures',\n  'Release date': ['November 4, 1994', '(', '1994-11-04', ')'],\n  'Running time': '95 minutes',\n  'Country': 'United States',\n  'Language': 'English',\n  'Budget': '$7.8 million',\n  'Box office': '$2.3 million'},\n {'url': 'https://en.wikipedia.org/wiki/Dream_Lover_(1994_film)',\n  'year': 1994,\n  'imdb_link': 'https://www.imdb.com/title/tt0109665/',\n  'title': 'Dream Lover',\n  'Directed by': 'Nicholas Kazan',\n  'Written by': 'Nicholas Kazan',\n  'Starring': ['James Spader',\n   'Mädchen Amick',\n   'Bess Armstrong',\n   'Frederic Lehne',\n   'Larry Miller'],\n  'Music by': 'Christopher Young',\n  'Cinematography': 'Jean-Yves Escoffier',\n  'Productioncompany ': ['PolyGram Filmed Entertainment',\n   'Propaganda Films',\n   'Nicita/Lloyd Productions',\n   'Edward R. Pressman',\n   'Productions'],\n  'Distributed by': ['Metro-Goldwyn-Mayer', 'Gramercy Pictures'],\n  'Release date': ['October 1993',\n   '(',\n   '1993-10',\n   ')',\n   '(MIFED)',\n   'May 6, 1994',\n   '(',\n   '1994-05-06',\n   ')'],\n  'Running time': '103 minutes',\n  'Country': 'United States',\n  'Language': 'English',\n  'Box office': '$256,264'},\n {'url': 'https://en.wikipedia.org/wiki/Drop_Zone_(film)',\n  'year': 1994,\n  'imdb_link': 'https://www.imdb.com/title/tt0109676/',\n  'title': 'Drop Zone',\n  'Directed by': 'John Badham',\n  'Produced by': ['D. J. Caruso', 'Lauren Lloyd', 'Wallis Nicita'],\n  'Written by': ['Peter Barsocchini', 'John Bishop'],\n  'Story by': ['Peter Barsocchini', 'Tony Griffin', 'Guy Manos'],\n  'Starring': ['Wesley Snipes', 'Gary Busey', 'Yancy Butler', 'Michael Jeter'],\n  'Music by': 'Hans Zimmer',\n  'Cinematography': 'Roy H. Wagner',\n  'Edited by': 'Frank Morriss',\n  'Productioncompany ': ['Paramount Pictures', 'Nicita/Lloyd Productions'],\n  'Distributed by': 'Paramount Pictures',\n  'Release date': ['December 9, 1994', '(', '1994-12-09', ')'],\n  'Running time': '101 minutes',\n  'Country': 'United States',\n  'Language': 'English',\n  'Budget': '$45 million',\n  'Box office': '$28,735,315'},\n {'url': 'https://en.wikipedia.org/wiki/Dumb_and_Dumber',\n  'year': 1994,\n  'imdb_link': 'https://www.imdb.com/title/tt0109686/',\n  'title': 'Dumb and Dumber',\n  'Directed by': 'Peter Farrelly',\n  'Produced by': ['Charles B. Wessler',\n   'Brad Krevoy',\n   'Steve Stabler',\n   'Aaron Meyerson'],\n  'Written by': ['Peter Farrelly', 'Bobby Farrelly', 'Bennett Yellin'],\n  'Starring': ['Jim Carrey',\n   'Jeff Daniels',\n   'Lauren Holly',\n   'Karen Duffy',\n   'Mike Starr',\n   'Charles Rocket',\n   'Teri Garr'],\n  'Music by': 'Todd Rundgren',\n  'Cinematography': 'Mark Irwin',\n  'Edited by': 'Christopher Greenbury',\n  'Productioncompanies ': ['Katja Motion Picture Corporation',\n   '[1]',\n   'Krevoy/Stabler/Wessler Production',\n   '[2]'],\n  'Distributed by': 'New Line Cinema',\n  'Release date': ['December 16, 1994', '(', '1994-12-16', ')'],\n  'Running time': '106 minutes',\n  'Country': 'United States',\n  'Language': 'English',\n  'Budget': '$17 million',\n  'Box office': '$247.3 million'},\n {'url': 'https://en.wikipedia.org/wiki/Ed_Wood_(film)',\n  'year': 1994,\n  'imdb_link': 'https://www.imdb.com/title/tt0109707/',\n  'title': 'Ed Wood',\n  'Directed by': 'Tim Burton',\n  'Produced by': ['Denise Di Novi', 'Tim Burton'],\n  'Written by': ['Scott Alexander', 'Larry Karaszewski'],\n  'Based on': ['Nightmare of Ecstasy: The Life and Art of Edward D. Wood Jr.',\n   'by',\n   'Rudolph Grey'],\n  'Starring': ['Johnny Depp',\n   'Martin Landau',\n   'Sarah Jessica Parker',\n   'Patricia Arquette',\n   'Jeffrey Jones',\n   'Bill Murray'],\n  'Music by': 'Howard Shore',\n  'Cinematography': 'Stefan Czapsky',\n  'Edited by': 'Chris Lebenzon',\n  'Productioncompany ': 'Touchstone Pictures',\n  'Distributed by': 'Buena Vista Pictures',\n  'Release date': ['September 23, 1994',\n   '(',\n   '1994-09-23',\n   ')',\n   '(',\n   'New York Film Festival',\n   ')',\n   'September 30, 1994',\n   '(',\n   '1994-09-30',\n   ')',\n   '(United States)'],\n  'Running time': '126 minutes',\n  'Country': 'United States',\n  'Language': 'English',\n  'Budget': '$18 million',\n  'Box office': '$5.9 million'},\n {},\n {'url': 'https://en.wikipedia.org/wiki/Even_Cowgirls_Get_the_Blues_(film)',\n  'year': 1994,\n  'imdb_link': 'https://www.imdb.com/title/tt0106834/',\n  'title': 'Even Cowgirls Get the Blues',\n  'Directed by': 'Gus Van Sant',\n  'Produced by': ['Eric McLeod', 'Laurie Parker', 'Gus Van Sant'],\n  'Screenplay by': 'Gus Van Sant',\n  'Based on': ['Even Cowgirls Get the Blues', 'by', 'Tom Robbins'],\n  'Starring': ['Uma Thurman',\n   'Lorraine Bracco',\n   'Angie Dickinson',\n   'Noriyuki \"Pat\" Morita',\n   'Keanu Reeves',\n   'John Hurt',\n   'Rain Phoenix'],\n  'Narrated by': 'Tom Robbins',\n  'Music by': ['k.d. lang', 'Ben Mink'],\n  'Cinematography': ['John J. Campbell', 'Eric Alan Edwards'],\n  'Edited by': ['Curtiss Clayton', 'Gus Van Sant'],\n  'Productioncompany ': 'Fourth Vision',\n  'Distributed by': 'Fine Line Features',\n  'Release date': ['September 13, 1993',\n   '(',\n   '1993-09-13',\n   ')',\n   '(',\n   'TIFF',\n   ')',\n   'May 20, 1994',\n   '(',\n   '1994-05-20',\n   ')'],\n  'Running time': '96 minutes',\n  'Country': 'United States',\n  'Language': 'English',\n  'Budget': '$8 million',\n  'Box office': '$1.7 million'},\n {'url': 'https://en.wikipedia.org/wiki/Exit_to_Eden_(film)',\n  'year': 1994,\n  'imdb_link': 'https://www.imdb.com/title/tt0109758/',\n  'title': 'Exit To Eden',\n  'Directed by': 'Garry Marshall',\n  'Produced by': ['Garry Marshall', 'Edward K. Milkis'],\n  'Written by': ['Deborah Amelon', 'Bob Brunner'],\n  'Based on': ['Exit to Eden', 'by', 'Anne Rampling'],\n  'Starring': ['Dana Delany',\n   'Paul Mercurio',\n   'Iman',\n   'Stuart Wilson',\n   'Hector Elizondo',\n   \"Rosie O'Donnell\",\n   'Dan Aykroyd'],\n  'Music by': 'Patrick Doyle',\n  'Cinematography': 'Theo van de Sande',\n  'Edited by': 'David Finfer',\n  'Distributed by': 'Savoy Pictures',\n  'Release date': ['October 14, 1994', '(', '1994-10-14', ')'],\n  'Running time': '114 minutes',\n  'Country': 'United States',\n  'Language': 'English',\n  'Budget': '$25-30 million',\n  'Box office': '$6,841,570'},\n {'url': 'https://en.wikipedia.org/wiki/F.T.W._(film)',\n  'year': 1994,\n  'imdb_link': 'https://www.imdb.com/title/tt0109765/',\n  'title': 'F.T.W.',\n  'Directed by': 'Michael Karbelnikoff',\n  'Written by': ['Mickey Rourke', ', Mari Kornhauser'],\n  'Starring': ['Lori Singer', ',', 'Brion James', ',', 'Mickey Rourke'],\n  'Release date': ['1994', '(', '1994', ')'],\n  'Running time': '100 minutes',\n  'Country': 'United States',\n  'Language': 'English'},\n {'url': 'https://en.wikipedia.org/wiki/The_Fantastic_Four_(unreleased_film)',\n  'year': 1994,\n  'imdb_link': 'https://www.imdb.com/title/tt0109770/',\n  'title': 'The Fantastic Four',\n  'Directed by': 'Oley Sassone',\n  'Produced by': 'Steven Rabiner',\n  'Written by': ['Craig J. Nevius', 'Kevin Rock'],\n  'Based on': ['Fantastic Four', 'by', 'Stan Lee', 'Jack Kirby'],\n  'Starring': ['Alex Hyde-White',\n   'Jay Underwood',\n   'Rebecca Staab',\n   'Michael Bailey Smith',\n   'Kat Green',\n   'Joseph Culp'],\n  'Music by': ['David Wurst', 'Eric Wurst'],\n  'Cinematography': 'Mark Parry',\n  'Edited by': 'Glenn Garland',\n  'Productioncompany ': 'Neue Constantin Film',\n  'Distributed by': 'New Horizons',\n  'Release date': ['May 31, 1994', '(', '1994-05-31', ')', '(Limited)'],\n  'Running time': '90 minutes',\n  'Country': 'United States',\n  'Language': 'English',\n  'Budget': '$1 million'},\n {'url': 'https://en.wikipedia.org/wiki/Fast_Getaway_II',\n  'year': 1994,\n  'imdb_link': 'https://www.imdb.com/title/tt0109773/',\n  'title': 'Fast Getaway II',\n  'Directed by': 'Oley Sassone',\n  'Produced by': ['Paul Hertzberg', 'Catalaine Knell', 'Russell D. Markowitz'],\n  'Written by': 'Mark Sevi',\n  'Starring': ['Corey Haim', 'Cynthia Rothrock', 'Leo Rossi'],\n  'Music by': 'David Robbins',\n  'Productioncompanies ': ['CineTel Films', 'Live Entertainment'],\n  'Distributed by': 'Live Home Video (VHS)',\n  'Release date': ['December 21, 1994', '(', '1994-12-21', ')'],\n  'Running time': '95 minutes',\n  'Country': 'United States',\n  'Language': 'English'},\n {'url': 'https://en.wikipedia.org/wiki/The_Favor_(1994_film)',\n  'year': 1994,\n  'imdb_link': 'https://www.imdb.com/title/tt0109783/',\n  'title': 'The Favor',\n  'Directed by': 'Donald Petrie',\n  'Produced by': 'Lauren Shuler Donner',\n  'Written by': ['Sara Parriott', 'Josann McGibbon'],\n  'Starring': ['Elizabeth McGovern',\n   'Harley Jane Kozak',\n   'Bill Pullman',\n   'Brad Pitt',\n   'Ken Wahl'],\n  'Music by': 'Thomas Newman',\n  'Distributed by': 'Orion Pictures',\n  'Release date': ['April 29, 1994', '(', '1994-04-29', ')', '(U.S.)'],\n  'Running time': '97 min.',\n  'Country': 'United States',\n  'Language': 'English',\n  'Budget': '$12 million',\n  'Box office': '$3,134,381'},\n {'url': 'https://en.wikipedia.org/wiki/Fear_of_a_Black_Hat',\n  'year': 1994,\n  'imdb_link': 'https://www.imdb.com/title/tt0106880/',\n  'title': 'Fear of a Black Hat',\n  'Directed by': 'Rusty Cundieff',\n  'Produced by': 'Darin Scott',\n  'Written by': 'Rusty Cundieff',\n  'Starring': ['Rusty Cundieff',\n   'Larry B. Scott',\n   'Mark Christopher Lawrence'],\n  'Music by': ['Jim Manzie', 'Larry Robinson', 'N.W.H.'],\n  'Edited by': 'Karen Horn',\n  'Productioncompany ': 'ITC Entertainment',\n  'Distributed by': 'The Samuel Goldwyn Company',\n  'Release date': ['January 24, 1993',\n   '(',\n   '1993-01-24',\n   ')',\n   '(',\n   'Sundance Film Festival',\n   ')',\n   'June 3, 1994',\n   '(',\n   '1994-06-03',\n   ')',\n   '(United States)'],\n  'Running time': '89 minutes',\n  'Country': 'United States',\n  'Language': 'English',\n  'Budget': '$1 million (estimated)'},\n {'url': 'https://en.wikipedia.org/wiki/The_Flintstones_(film)',\n  'year': 1994,\n  'imdb_link': 'https://www.imdb.com/title/tt0109813/',\n  'title': 'The Flintstones',\n  'Directed by': 'Brian Levant',\n  'Produced by': 'Bruce Cohen',\n  'Written by': ['Tom S. Parker', 'Jim Jennewein', 'Steven E. de Souza'],\n  'Based on': ['The Flintstones',\n   'by',\n   'William Hanna',\n   'and',\n   'Joseph Barbera'],\n  'Starring': ['John Goodman',\n   'Rick Moranis',\n   'Elizabeth Perkins',\n   \"Rosie O'Donnell\",\n   'Kyle MacLachlan',\n   'Halle Berry',\n   'Elizabeth Taylor'],\n  'Music by': 'David Newman',\n  'Cinematography': 'Dean Cundey',\n  'Edited by': 'Kent Beyda',\n  'Productioncompany ': ['Amblin Entertainment', 'Hanna-Barbera Productions'],\n  'Distributed by': 'Universal Pictures',\n  'Release date': ['May 27, 1994', '(', '1994-05-27', ')'],\n  'Running time': '91 minutes',\n  'Country': 'United States',\n  'Language': 'English',\n  'Budget': '$46 million',\n  'Box office': '$341.6 million'},\n {'url': 'https://en.wikipedia.org/wiki/The_Foot_Shooting_Party',\n  'year': 1994,\n  'Type': 'Label',\n  'Industry': 'Motion pictures',\n  'Fate': 'Dormant',\n  'Founded': ['February 15, 1984', '; 35 years ago', '(', '1984-02-15', ')'],\n  'Founder': 'Ron W. Miller',\n  'Headquarters': ['Burbank', ',', 'California', ',', 'United States'],\n  'Parent': 'The Walt Disney Studios',\n  'Website': ['www', '.touchstonepictures', '.com']},\n {'url': 'https://en.wikipedia.org/wiki/The_Force_(1994_film)',\n  'year': 1994,\n  'imdb_link': 'https://www.imdb.com/title/tt0109826/',\n  'title': 'The Force',\n  'Directed by': 'Mark Rosman',\n  'Produced by': 'Pierre David',\n  'Written by': ['Randall Frakes', 'Steve Kallaugher', 'Mitch Marcus'],\n  'Starring': ['Jason Gedrick',\n   'Kim Delaney',\n   'Gary Hudson',\n   'Jarrett Lennon',\n   'Cyndi Pass'],\n  'Music by': 'Louis Febre',\n  'Cinematography': 'Jacques Haitkin',\n  'Edited by': 'Julian Semilian',\n  'Distributed by': ['Image Organization', 'Republic Pictures'],\n  'Release date': ['1994', '(', '1994', ')'],\n  'Running time': '94 minutes',\n  'Country': 'United States',\n  'Language': 'English'},\n {'url': 'https://en.wikipedia.org/wiki/Forrest_Gump',\n  'year': 1994,\n  'imdb_link': 'https://www.imdb.com/title/tt0109830/',\n  'title': 'Forrest Gump',\n  'Directed by': 'Robert Zemeckis',\n  'Produced by': ['Wendy Finerman', 'Steve Tisch', 'Steve Starkey'],\n  'Screenplay by': 'Eric Roth',\n  'Based on': ['Forrest Gump', 'by', 'Winston Groom'],\n  'Starring': ['Tom Hanks',\n   'Robin Wright',\n   'Gary Sinise',\n   'Mykelti Williamson',\n   'Sally Field'],\n  'Music by': 'Alan Silvestri',\n  'Cinematography': 'Don Burgess',\n  'Edited by': 'Arthur Schmidt',\n  'Productioncompany ': 'Wendy Finerman Productions',\n  'Distributed by': 'Paramount Pictures',\n  'Release date': ['June 23, 1994',\n   '(',\n   '1994-06-23',\n   ')',\n   '(Los Angeles)',\n   'July 6, 1994',\n   '(',\n   '1994-07-06',\n   ')',\n   '(United States)'],\n  'Running time': '142 minutes',\n  'Country': 'United States',\n  'Language': 'English',\n  'Budget': ['$55', 'million', '[1]'],\n  'Box office': ['$678.1', 'million', '[1]']},\n {'url': 'https://en.wikipedia.org/wiki/Frank_%26_Jesse',\n  'year': 1994,\n  'imdb_link': 'https://www.imdb.com/title/tt0109835/',\n  'title': 'Frank and Jesse',\n  'Directed by': 'Robert Boris',\n  'Produced by': ['Cassian Elwes', 'Elliott Kastner'],\n  'Written by': 'Robert Boris',\n  'Starring': ['Rob Lowe',\n   'Bill Paxton',\n   'Randy Travis',\n   'Dana Wheeler-Nicholson',\n   'Luke Askew',\n   'Alexis Arquette',\n   'William Atherton'],\n  'Music by': 'Mark McKenzie',\n  'Cinematography': 'Walt Lloyd',\n  'Distributed by': 'Trimark',\n  'Release date': ['October 28, 1994', '(', '1994-10-28', ')'],\n  'Running time': '105 minutes',\n  'Country': 'United States',\n  'Language': 'English',\n  'Box office': '$ 50,004'},\n {'url': 'https://en.wikipedia.org/wiki/Fresh_(1994_film)',\n  'year': 1994,\n  'imdb_link': 'https://www.imdb.com/title/tt0109842/',\n  'title': 'Fresh',\n  'Directed by': 'Boaz Yakin',\n  'Produced by': ['Lawrence Bender', 'Randy Ostrow'],\n  'Written by': 'Boaz Yakin',\n  'Starring': ['Sean Nelson',\n   'Giancarlo Esposito',\n   'Samuel L. Jackson',\n   \"N'Bushe Wright\"],\n  'Music by': 'Stewart Copeland',\n  'Distributed by': 'Miramax Films',\n  'Release date': ['August 24, 1994', '(', '1994-08-24', ')'],\n  'Running time': '114 min.',\n  'Language': 'English',\n  'Budget': '$3,500,000',\n  'Box office': '$8,094,616'},\n {'url': 'https://en.wikipedia.org/wiki/Gang_War:_Bangin%27_In_Little_Rock',\n  'year': 1994,\n  'imdb_link': 'https://www.imdb.com/title/tt0272104/',\n  'title': \"Gang War: Bangin' In Little Rock\",\n  'Directed by': 'Marc Levin',\n  'Distributed by': 'HBO Entertainment',\n  'Release date': ['1994', '(', '1994', ')'],\n  'Country': 'United States',\n  'Language': 'English'},\n {'url': 'https://en.wikipedia.org/wiki/Gary_Larson%27s_Tales_from_the_Far_Side',\n  'year': 1994,\n  'imdb_link': 'https://www.imdb.com/title/tt0109873/',\n  'title': 'Tales from the Far Side',\n  'Created by': 'Gary Larson',\n  'Directed by': 'Marv Newland',\n  'Starring': ['Kathleen Barr', 'Doug Parker', 'Lee Tockar', 'Dale Wilson'],\n  'Country of origin': 'United States',\n  'Producer(s)': ['Dennis Heaton',\n   'Toni A. Carmichael',\n   'Michael van den Bos'],\n  'Running time': '30 minutes',\n  'Original network': 'CBS',\n  'Original release': 'October 26, 1994'},\n {'url': 'https://en.wikipedia.org/wiki/The_Getaway_(1994_film)',\n  'year': 1994,\n  'imdb_link': 'https://www.imdb.com/title/tt0109890/',\n  'title': 'The Getaway',\n  'Directed by': 'Roger Donaldson',\n  'Produced by': ['David Foster', 'John Alan Simon', 'Lawrence Turman'],\n  'Screenplay by': ['Walter Hill', 'Amy Holden Jones'],\n  'Based on': ['The Getaway', 'by', 'Jim Thompson'],\n  'Starring': ['Alec Baldwin',\n   'Kim Basinger',\n   'Michael Madsen',\n   'Jennifer Tilly',\n   'Richard Farnsworth',\n   'James Woods'],\n  'Music by': 'Mark Isham',\n  'Cinematography': 'Peter Menzies Jr.',\n  'Edited by': 'Conrad Buff',\n  'Productioncompany ': ['Largo Entertainment', 'JVC'],\n  'Distributed by': 'Universal Pictures',\n  'Release date': ['February 11, 1994', '(', '1994-02-11', ')'],\n  'Running time': '115 minutes',\n  'Country': 'United States',\n  'Language': 'English',\n  'Box office': '$30 million'},\n {'url': 'https://en.wikipedia.org/wiki/Getting_Even_with_Dad',\n  'year': 1994,\n  'imdb_link': 'https://www.imdb.com/title/tt0109891/',\n  'title': 'Getting Even with Dad',\n  'Directed by': 'Howard Deutch',\n  'Produced by': 'Katie Jacobs',\n  'Written by': ['Tom S. Parker', 'Jim Jennewein'],\n  'Starring': ['Macaulay Culkin',\n   'Ted Danson',\n   'Glenne Headly',\n   'Saul Rubinek',\n   'Gailard Sartain',\n   'Hector Elizondo'],\n  'Music by': 'Miles Goodman',\n  'Cinematography': 'Tim Suhrstedt',\n  'Edited by': 'Richard Halsey',\n  'Distributed by': 'Metro-Goldwyn-Mayer',\n  'Release date': ['June 17, 1994', '(', '1994-06-17', ')'],\n  'Running time': '104 minutes',\n  'Language': 'English',\n  'Budget': '$30 million',\n  'Box office': '$18,869,594'},\n {},\n ...]"
     },
     "metadata": {},
     "execution_count": 5
    }
   ],
   "source": [
    "# Check last 5 records\n",
    "wikiMoviesRaw[:-5]"
   ]
  },
  {
   "cell_type": "code",
   "execution_count": 6,
   "metadata": {},
   "outputs": [
    {
     "output_type": "execute_result",
     "data": {
      "text/plain": "[{'url': 'https://en.wikipedia.org/wiki/Benji:_Off_the_Leash!',\n  'year': 2004,\n  'imdb_link': 'https://www.imdb.com/title/tt0315273/',\n  'title': 'Benji: Off the Leash!',\n  'Directed by': 'Joe Camp',\n  'Written by': 'Joe Camp',\n  'Starring': ['Benji', 'Nick Whitaker', 'Shaggy', 'Gypsy the Cockatoo'],\n  'Music by': 'Antonio di Lorenzo',\n  'Productioncompany ': 'Mulberry Square Productions',\n  'Distributed by': 'Mulberry Square Productions',\n  'Release date': ['March 26, 2004', '(', '2004-03-26', ')'],\n  'Running time': '97 min',\n  'Country': 'United States',\n  'Language': 'English',\n  'Box office': '$3,817,362'},\n {'url': 'https://en.wikipedia.org/wiki/The_Best_Thief_in_the_World',\n  'year': 2004,\n  'imdb_link': 'https://www.imdb.com/title/tt0389796/',\n  'title': 'The Best Thief in the World',\n  'Directed by': 'Jacob Kornbluth',\n  'Produced by': ['Tim Perrell', 'Nicola Usborne'],\n  'Written by': 'Jacob Kornbluth',\n  'Starring': ['Marc Rozendaal',\n   'Michael Silverman',\n   'David Warshofsky',\n   'Audra McDonald',\n   'Lois Smith'],\n  'Music by': ['Prince Paul', 'and', 'Don Newkirk'],\n  'Cinematography': 'Ben Kutchins',\n  'Edited by': 'Stephanie Sterner',\n  'Distributed by': 'Showtime Networks',\n  'Release date': ['January 16, 2004', '(', '2004-01-16', ')'],\n  'Running time': '93 minutes',\n  'Country': 'United States',\n  'Language': 'English'},\n {'url': 'https://en.wikipedia.org/wiki/Beyond_the_Sea_(2004_film)',\n  'year': 2004,\n  'imdb_link': 'https://www.imdb.com/title/tt0363473/',\n  'title': 'Beyond the Sea',\n  'Directed by': 'Kevin Spacey',\n  'Produced by': ['Kevin Spacey',\n   'Phillip Barry',\n   'Dana Brunetti',\n   'Arthur Friedman',\n   'Jan Fantl',\n   'Andy Paterson'],\n  'Written by': ['Lewis Colick', 'Kevin Spacey'],\n  'Starring': ['Kevin Spacey', 'Kate Bosworth', 'Bob Hoskins', 'John Goodman'],\n  'Music by': 'Bobby Darin',\n  'Cinematography': 'Eduardo Serra',\n  'Edited by': 'Trevor Waite',\n  'Productioncompany ': 'Trigger Street Productions',\n  'Distributed by': ['Lionsgate Films',\n   '(USA)',\n   'Entertainment Film Distributors',\n   '(UK)',\n   'GAGA',\n   '(Japan)',\n   'Maple Pictures',\n   '(Canada)'],\n  'Release date': ['December 17, 2004', '(', '2004-12-17', ')'],\n  'Running time': '118 minutes',\n  'Country': 'United States',\n  'Language': 'English',\n  'Budget': '$25 million',\n  'Box office': '$8.4 million'},\n {'url': 'https://en.wikipedia.org/wiki/The_Big_Bounce_(2004_film)',\n  'year': 2004,\n  'imdb_link': 'https://www.imdb.com/title/tt0315824/',\n  'title': 'The Big Bounce',\n  'Directed by': 'George Armitage',\n  'Produced by': ['George Armitage', 'Steve Bing'],\n  'Screenplay by': 'Sebastian Gutierrez',\n  'Based on': ['The Big Bounce', 'by', 'Elmore Leonard'],\n  'Starring': ['Owen Wilson',\n   'Charlie Sheen',\n   'Morgan Freeman',\n   'Sara Foster',\n   'Gary Sinise'],\n  'Music by': 'George S. Clinton',\n  'Cinematography': 'Jeffrey L. Kimball',\n  'Edited by': 'Barry Malkin',\n  'Productioncompany ': 'Shangri-La Entertainment',\n  'Distributed by': 'Warner Bros. Pictures',\n  'Release date': ['January 30, 2004', '(', '2004-01-30', ')'],\n  'Running time': '88 minutes',\n  'Language': 'English',\n  'Budget': '$50 million',\n  'Box office': '$6.8 million'},\n {'url': 'https://en.wikipedia.org/wiki/Birth_(film)',\n  'year': 2004,\n  'imdb_link': 'https://www.imdb.com/title/tt0337876/',\n  'title': 'Birth',\n  'Directed by': 'Jonathan Glazer',\n  'Produced by': ['Lizie Gower', 'Nick Morris', 'Jean-Louis Piel'],\n  'Written by': ['Jean-Claude Carrière', 'Milo Addica', 'Jonathan Glazer'],\n  'Starring': ['Nicole Kidman',\n   'Cameron Bright',\n   'Danny Huston',\n   'Lauren Bacall'],\n  'Music by': 'Alexandre Desplat',\n  'Cinematography': 'Harris Savides',\n  'Edited by': ['Sam Sneade', 'Claus Wehlisch'],\n  'Distributed by': 'New Line Cinema',\n  'Release date': ['November 8, 2004', '(', '2004-11-08', ')'],\n  'Running time': '96 minutes',\n  'Country': 'United States',\n  'Language': 'English',\n  'Budget': '$20 million',\n  'Box office': '$23.9 million'}]"
     },
     "metadata": {},
     "execution_count": 6
    }
   ],
   "source": [
    "# Check records in the middle\n",
    "wikiMoviesRaw[3600:3605]"
   ]
  },
  {
   "cell_type": "code",
   "execution_count": 7,
   "metadata": {},
   "outputs": [],
   "source": [
    "# Kaggle data\n",
    "\n",
    "kaggleMetadata = pd.read_csv(f\"{fileDir}movies_metadata.csv\", low_memory=False)\n",
    "ratings = pd.read_csv(f\"{fileDir}ratings.csv\")"
   ]
  },
  {
   "cell_type": "code",
   "execution_count": 8,
   "metadata": {},
   "outputs": [
    {
     "output_type": "execute_result",
     "data": {
      "text/plain": "   adult                              belongs_to_collection    budget  \\\n0  False  {'id': 10194, 'name': 'Toy Story Collection', ...  30000000   \n1  False                                                NaN  65000000   \n2  False  {'id': 119050, 'name': 'Grumpy Old Men Collect...         0   \n3  False                                                NaN  16000000   \n4  False  {'id': 96871, 'name': 'Father of the Bride Col...         0   \n\n                                              genres  \\\n0  [{'id': 16, 'name': 'Animation'}, {'id': 35, '...   \n1  [{'id': 12, 'name': 'Adventure'}, {'id': 14, '...   \n2  [{'id': 10749, 'name': 'Romance'}, {'id': 35, ...   \n3  [{'id': 35, 'name': 'Comedy'}, {'id': 18, 'nam...   \n4                     [{'id': 35, 'name': 'Comedy'}]   \n\n                               homepage     id    imdb_id original_language  \\\n0  http://toystory.disney.com/toy-story    862  tt0114709                en   \n1                                   NaN   8844  tt0113497                en   \n2                                   NaN  15602  tt0113228                en   \n3                                   NaN  31357  tt0114885                en   \n4                                   NaN  11862  tt0113041                en   \n\n                original_title  \\\n0                    Toy Story   \n1                      Jumanji   \n2             Grumpier Old Men   \n3            Waiting to Exhale   \n4  Father of the Bride Part II   \n\n                                            overview  ... release_date  \\\n0  Led by Woody, Andy's toys live happily in his ...  ...   1995-10-30   \n1  When siblings Judy and Peter discover an encha...  ...   1995-12-15   \n2  A family wedding reignites the ancient feud be...  ...   1995-12-22   \n3  Cheated on, mistreated and stepped on, the wom...  ...   1995-12-22   \n4  Just when George Banks has recovered from his ...  ...   1995-02-10   \n\n       revenue runtime                                   spoken_languages  \\\n0  373554033.0    81.0           [{'iso_639_1': 'en', 'name': 'English'}]   \n1  262797249.0   104.0  [{'iso_639_1': 'en', 'name': 'English'}, {'iso...   \n2          0.0   101.0           [{'iso_639_1': 'en', 'name': 'English'}]   \n3   81452156.0   127.0           [{'iso_639_1': 'en', 'name': 'English'}]   \n4   76578911.0   106.0           [{'iso_639_1': 'en', 'name': 'English'}]   \n\n     status                                            tagline  \\\n0  Released                                                NaN   \n1  Released          Roll the dice and unleash the excitement!   \n2  Released  Still Yelling. Still Fighting. Still Ready for...   \n3  Released  Friends are the people who let you be yourself...   \n4  Released  Just When His World Is Back To Normal... He's ...   \n\n                         title  video vote_average vote_count  \n0                    Toy Story  False          7.7     5415.0  \n1                      Jumanji  False          6.9     2413.0  \n2             Grumpier Old Men  False          6.5       92.0  \n3            Waiting to Exhale  False          6.1       34.0  \n4  Father of the Bride Part II  False          5.7      173.0  \n\n[5 rows x 24 columns]",
      "text/html": "<div>\n<style scoped>\n    .dataframe tbody tr th:only-of-type {\n        vertical-align: middle;\n    }\n\n    .dataframe tbody tr th {\n        vertical-align: top;\n    }\n\n    .dataframe thead th {\n        text-align: right;\n    }\n</style>\n<table border=\"1\" class=\"dataframe\">\n  <thead>\n    <tr style=\"text-align: right;\">\n      <th></th>\n      <th>adult</th>\n      <th>belongs_to_collection</th>\n      <th>budget</th>\n      <th>genres</th>\n      <th>homepage</th>\n      <th>id</th>\n      <th>imdb_id</th>\n      <th>original_language</th>\n      <th>original_title</th>\n      <th>overview</th>\n      <th>...</th>\n      <th>release_date</th>\n      <th>revenue</th>\n      <th>runtime</th>\n      <th>spoken_languages</th>\n      <th>status</th>\n      <th>tagline</th>\n      <th>title</th>\n      <th>video</th>\n      <th>vote_average</th>\n      <th>vote_count</th>\n    </tr>\n  </thead>\n  <tbody>\n    <tr>\n      <th>0</th>\n      <td>False</td>\n      <td>{'id': 10194, 'name': 'Toy Story Collection', ...</td>\n      <td>30000000</td>\n      <td>[{'id': 16, 'name': 'Animation'}, {'id': 35, '...</td>\n      <td>http://toystory.disney.com/toy-story</td>\n      <td>862</td>\n      <td>tt0114709</td>\n      <td>en</td>\n      <td>Toy Story</td>\n      <td>Led by Woody, Andy's toys live happily in his ...</td>\n      <td>...</td>\n      <td>1995-10-30</td>\n      <td>373554033.0</td>\n      <td>81.0</td>\n      <td>[{'iso_639_1': 'en', 'name': 'English'}]</td>\n      <td>Released</td>\n      <td>NaN</td>\n      <td>Toy Story</td>\n      <td>False</td>\n      <td>7.7</td>\n      <td>5415.0</td>\n    </tr>\n    <tr>\n      <th>1</th>\n      <td>False</td>\n      <td>NaN</td>\n      <td>65000000</td>\n      <td>[{'id': 12, 'name': 'Adventure'}, {'id': 14, '...</td>\n      <td>NaN</td>\n      <td>8844</td>\n      <td>tt0113497</td>\n      <td>en</td>\n      <td>Jumanji</td>\n      <td>When siblings Judy and Peter discover an encha...</td>\n      <td>...</td>\n      <td>1995-12-15</td>\n      <td>262797249.0</td>\n      <td>104.0</td>\n      <td>[{'iso_639_1': 'en', 'name': 'English'}, {'iso...</td>\n      <td>Released</td>\n      <td>Roll the dice and unleash the excitement!</td>\n      <td>Jumanji</td>\n      <td>False</td>\n      <td>6.9</td>\n      <td>2413.0</td>\n    </tr>\n    <tr>\n      <th>2</th>\n      <td>False</td>\n      <td>{'id': 119050, 'name': 'Grumpy Old Men Collect...</td>\n      <td>0</td>\n      <td>[{'id': 10749, 'name': 'Romance'}, {'id': 35, ...</td>\n      <td>NaN</td>\n      <td>15602</td>\n      <td>tt0113228</td>\n      <td>en</td>\n      <td>Grumpier Old Men</td>\n      <td>A family wedding reignites the ancient feud be...</td>\n      <td>...</td>\n      <td>1995-12-22</td>\n      <td>0.0</td>\n      <td>101.0</td>\n      <td>[{'iso_639_1': 'en', 'name': 'English'}]</td>\n      <td>Released</td>\n      <td>Still Yelling. Still Fighting. Still Ready for...</td>\n      <td>Grumpier Old Men</td>\n      <td>False</td>\n      <td>6.5</td>\n      <td>92.0</td>\n    </tr>\n    <tr>\n      <th>3</th>\n      <td>False</td>\n      <td>NaN</td>\n      <td>16000000</td>\n      <td>[{'id': 35, 'name': 'Comedy'}, {'id': 18, 'nam...</td>\n      <td>NaN</td>\n      <td>31357</td>\n      <td>tt0114885</td>\n      <td>en</td>\n      <td>Waiting to Exhale</td>\n      <td>Cheated on, mistreated and stepped on, the wom...</td>\n      <td>...</td>\n      <td>1995-12-22</td>\n      <td>81452156.0</td>\n      <td>127.0</td>\n      <td>[{'iso_639_1': 'en', 'name': 'English'}]</td>\n      <td>Released</td>\n      <td>Friends are the people who let you be yourself...</td>\n      <td>Waiting to Exhale</td>\n      <td>False</td>\n      <td>6.1</td>\n      <td>34.0</td>\n    </tr>\n    <tr>\n      <th>4</th>\n      <td>False</td>\n      <td>{'id': 96871, 'name': 'Father of the Bride Col...</td>\n      <td>0</td>\n      <td>[{'id': 35, 'name': 'Comedy'}]</td>\n      <td>NaN</td>\n      <td>11862</td>\n      <td>tt0113041</td>\n      <td>en</td>\n      <td>Father of the Bride Part II</td>\n      <td>Just when George Banks has recovered from his ...</td>\n      <td>...</td>\n      <td>1995-02-10</td>\n      <td>76578911.0</td>\n      <td>106.0</td>\n      <td>[{'iso_639_1': 'en', 'name': 'English'}]</td>\n      <td>Released</td>\n      <td>Just When His World Is Back To Normal... He's ...</td>\n      <td>Father of the Bride Part II</td>\n      <td>False</td>\n      <td>5.7</td>\n      <td>173.0</td>\n    </tr>\n  </tbody>\n</table>\n<p>5 rows × 24 columns</p>\n</div>"
     },
     "metadata": {},
     "execution_count": 8
    }
   ],
   "source": [
    "kaggleMetadata.head()"
   ]
  },
  {
   "cell_type": "code",
   "execution_count": 9,
   "metadata": {},
   "outputs": [
    {
     "output_type": "execute_result",
     "data": {
      "text/plain": "       adult belongs_to_collection budget  \\\n45461  False                   NaN      0   \n45462  False                   NaN      0   \n45463  False                   NaN      0   \n45464  False                   NaN      0   \n45465  False                   NaN      0   \n\n                                                  genres  \\\n45461  [{'id': 18, 'name': 'Drama'}, {'id': 10751, 'n...   \n45462                      [{'id': 18, 'name': 'Drama'}]   \n45463  [{'id': 28, 'name': 'Action'}, {'id': 18, 'nam...   \n45464                                                 []   \n45465                                                 []   \n\n                                   homepage      id    imdb_id  \\\n45461  http://www.imdb.com/title/tt6209470/  439050  tt6209470   \n45462                                   NaN  111109  tt2028550   \n45463                                   NaN   67758  tt0303758   \n45464                                   NaN  227506  tt0008536   \n45465                                   NaN  461257  tt6980792   \n\n      original_language       original_title  \\\n45461                fa              رگ خواب   \n45462                tl  Siglo ng Pagluluwal   \n45463                en             Betrayal   \n45464                en  Satana likuyushchiy   \n45465                en             Queerama   \n\n                                                overview  ... release_date  \\\n45461        Rising and falling between a man and woman.  ...          NaN   \n45462  An artist struggles to finish his work while a...  ...   2011-11-17   \n45463  When one of her hits goes wrong, a professiona...  ...   2003-08-01   \n45464  In a small town live two brothers, one a minis...  ...   1917-10-21   \n45465  50 years after decriminalisation of homosexual...  ...   2017-06-09   \n\n      revenue runtime                          spoken_languages    status  \\\n45461     0.0    90.0    [{'iso_639_1': 'fa', 'name': 'فارسی'}]  Released   \n45462     0.0   360.0         [{'iso_639_1': 'tl', 'name': ''}]  Released   \n45463     0.0    90.0  [{'iso_639_1': 'en', 'name': 'English'}]  Released   \n45464     0.0    87.0                                        []  Released   \n45465     0.0    75.0  [{'iso_639_1': 'en', 'name': 'English'}]  Released   \n\n                                          tagline                title  video  \\\n45461  Rising and falling between a man and woman               Subdue  False   \n45462                                         NaN  Century of Birthing  False   \n45463                      A deadly game of wits.             Betrayal  False   \n45464                                         NaN     Satan Triumphant  False   \n45465                                         NaN             Queerama  False   \n\n      vote_average vote_count  \n45461          4.0        1.0  \n45462          9.0        3.0  \n45463          3.8        6.0  \n45464          0.0        0.0  \n45465          0.0        0.0  \n\n[5 rows x 24 columns]",
      "text/html": "<div>\n<style scoped>\n    .dataframe tbody tr th:only-of-type {\n        vertical-align: middle;\n    }\n\n    .dataframe tbody tr th {\n        vertical-align: top;\n    }\n\n    .dataframe thead th {\n        text-align: right;\n    }\n</style>\n<table border=\"1\" class=\"dataframe\">\n  <thead>\n    <tr style=\"text-align: right;\">\n      <th></th>\n      <th>adult</th>\n      <th>belongs_to_collection</th>\n      <th>budget</th>\n      <th>genres</th>\n      <th>homepage</th>\n      <th>id</th>\n      <th>imdb_id</th>\n      <th>original_language</th>\n      <th>original_title</th>\n      <th>overview</th>\n      <th>...</th>\n      <th>release_date</th>\n      <th>revenue</th>\n      <th>runtime</th>\n      <th>spoken_languages</th>\n      <th>status</th>\n      <th>tagline</th>\n      <th>title</th>\n      <th>video</th>\n      <th>vote_average</th>\n      <th>vote_count</th>\n    </tr>\n  </thead>\n  <tbody>\n    <tr>\n      <th>45461</th>\n      <td>False</td>\n      <td>NaN</td>\n      <td>0</td>\n      <td>[{'id': 18, 'name': 'Drama'}, {'id': 10751, 'n...</td>\n      <td>http://www.imdb.com/title/tt6209470/</td>\n      <td>439050</td>\n      <td>tt6209470</td>\n      <td>fa</td>\n      <td>رگ خواب</td>\n      <td>Rising and falling between a man and woman.</td>\n      <td>...</td>\n      <td>NaN</td>\n      <td>0.0</td>\n      <td>90.0</td>\n      <td>[{'iso_639_1': 'fa', 'name': 'فارسی'}]</td>\n      <td>Released</td>\n      <td>Rising and falling between a man and woman</td>\n      <td>Subdue</td>\n      <td>False</td>\n      <td>4.0</td>\n      <td>1.0</td>\n    </tr>\n    <tr>\n      <th>45462</th>\n      <td>False</td>\n      <td>NaN</td>\n      <td>0</td>\n      <td>[{'id': 18, 'name': 'Drama'}]</td>\n      <td>NaN</td>\n      <td>111109</td>\n      <td>tt2028550</td>\n      <td>tl</td>\n      <td>Siglo ng Pagluluwal</td>\n      <td>An artist struggles to finish his work while a...</td>\n      <td>...</td>\n      <td>2011-11-17</td>\n      <td>0.0</td>\n      <td>360.0</td>\n      <td>[{'iso_639_1': 'tl', 'name': ''}]</td>\n      <td>Released</td>\n      <td>NaN</td>\n      <td>Century of Birthing</td>\n      <td>False</td>\n      <td>9.0</td>\n      <td>3.0</td>\n    </tr>\n    <tr>\n      <th>45463</th>\n      <td>False</td>\n      <td>NaN</td>\n      <td>0</td>\n      <td>[{'id': 28, 'name': 'Action'}, {'id': 18, 'nam...</td>\n      <td>NaN</td>\n      <td>67758</td>\n      <td>tt0303758</td>\n      <td>en</td>\n      <td>Betrayal</td>\n      <td>When one of her hits goes wrong, a professiona...</td>\n      <td>...</td>\n      <td>2003-08-01</td>\n      <td>0.0</td>\n      <td>90.0</td>\n      <td>[{'iso_639_1': 'en', 'name': 'English'}]</td>\n      <td>Released</td>\n      <td>A deadly game of wits.</td>\n      <td>Betrayal</td>\n      <td>False</td>\n      <td>3.8</td>\n      <td>6.0</td>\n    </tr>\n    <tr>\n      <th>45464</th>\n      <td>False</td>\n      <td>NaN</td>\n      <td>0</td>\n      <td>[]</td>\n      <td>NaN</td>\n      <td>227506</td>\n      <td>tt0008536</td>\n      <td>en</td>\n      <td>Satana likuyushchiy</td>\n      <td>In a small town live two brothers, one a minis...</td>\n      <td>...</td>\n      <td>1917-10-21</td>\n      <td>0.0</td>\n      <td>87.0</td>\n      <td>[]</td>\n      <td>Released</td>\n      <td>NaN</td>\n      <td>Satan Triumphant</td>\n      <td>False</td>\n      <td>0.0</td>\n      <td>0.0</td>\n    </tr>\n    <tr>\n      <th>45465</th>\n      <td>False</td>\n      <td>NaN</td>\n      <td>0</td>\n      <td>[]</td>\n      <td>NaN</td>\n      <td>461257</td>\n      <td>tt6980792</td>\n      <td>en</td>\n      <td>Queerama</td>\n      <td>50 years after decriminalisation of homosexual...</td>\n      <td>...</td>\n      <td>2017-06-09</td>\n      <td>0.0</td>\n      <td>75.0</td>\n      <td>[{'iso_639_1': 'en', 'name': 'English'}]</td>\n      <td>Released</td>\n      <td>NaN</td>\n      <td>Queerama</td>\n      <td>False</td>\n      <td>0.0</td>\n      <td>0.0</td>\n    </tr>\n  </tbody>\n</table>\n<p>5 rows × 24 columns</p>\n</div>"
     },
     "metadata": {},
     "execution_count": 9
    }
   ],
   "source": [
    "kaggleMetadata.tail()"
   ]
  },
  {
   "cell_type": "code",
   "execution_count": 10,
   "metadata": {},
   "outputs": [
    {
     "output_type": "execute_result",
     "data": {
      "text/plain": "   userId  movieId  rating   timestamp\n0       1      110     1.0  1425941529\n1       1      147     4.5  1425942435\n2       1      858     5.0  1425941523\n3       1     1221     5.0  1425941546\n4       1     1246     5.0  1425941556",
      "text/html": "<div>\n<style scoped>\n    .dataframe tbody tr th:only-of-type {\n        vertical-align: middle;\n    }\n\n    .dataframe tbody tr th {\n        vertical-align: top;\n    }\n\n    .dataframe thead th {\n        text-align: right;\n    }\n</style>\n<table border=\"1\" class=\"dataframe\">\n  <thead>\n    <tr style=\"text-align: right;\">\n      <th></th>\n      <th>userId</th>\n      <th>movieId</th>\n      <th>rating</th>\n      <th>timestamp</th>\n    </tr>\n  </thead>\n  <tbody>\n    <tr>\n      <th>0</th>\n      <td>1</td>\n      <td>110</td>\n      <td>1.0</td>\n      <td>1425941529</td>\n    </tr>\n    <tr>\n      <th>1</th>\n      <td>1</td>\n      <td>147</td>\n      <td>4.5</td>\n      <td>1425942435</td>\n    </tr>\n    <tr>\n      <th>2</th>\n      <td>1</td>\n      <td>858</td>\n      <td>5.0</td>\n      <td>1425941523</td>\n    </tr>\n    <tr>\n      <th>3</th>\n      <td>1</td>\n      <td>1221</td>\n      <td>5.0</td>\n      <td>1425941546</td>\n    </tr>\n    <tr>\n      <th>4</th>\n      <td>1</td>\n      <td>1246</td>\n      <td>5.0</td>\n      <td>1425941556</td>\n    </tr>\n  </tbody>\n</table>\n</div>"
     },
     "metadata": {},
     "execution_count": 10
    }
   ],
   "source": [
    "ratings.head()"
   ]
  },
  {
   "cell_type": "code",
   "execution_count": 11,
   "metadata": {},
   "outputs": [
    {
     "output_type": "execute_result",
     "data": {
      "text/plain": "       adult belongs_to_collection budget  \\\n29894  False                   NaN      0   \n10777  False                   NaN      0   \n13972  False                   NaN      0   \n23161  False                   NaN      0   \n2694   False                   NaN      0   \n\n                                                  genres homepage      id  \\\n29894  [{'id': 35, 'name': 'Comedy'}, {'id': 12, 'nam...      NaN   78478   \n10777  [{'id': 18, 'name': 'Drama'}, {'id': 10402, 'n...      NaN   86168   \n13972  [{'id': 9648, 'name': 'Mystery'}, {'id': 53, '...      NaN   13730   \n23161  [{'id': 53, 'name': 'Thriller'}, {'id': 9648, ...      NaN  178603   \n2694   [{'id': 35, 'name': 'Comedy'}, {'id': 10749, '...      NaN   15122   \n\n         imdb_id original_language                original_title  \\\n29894  tt1726889                fr  On ne choisit pas sa famille   \n10777  tt0057168                en         I Could Go on Singing   \n13972  tt0414879                fr                La Boîte noire   \n23161  tt1753693                en                        Detour   \n2694   tt0188863                en                   Love Stinks   \n\n                                                overview  ... release_date  \\\n29894  César Borgnoli, an unsuccessful car salesman f...  ...   2011-11-09   \n10777  Jenny Bowman is a successful singer who, while...  ...   1963-03-07   \n13972  An accident survivor wakes from a coma and con...  ...   2005-11-02   \n23161  Trapped inside his car by a mudslide, smooth t...  ...   2013-03-29   \n2694   A movie about a relationship...that's worse th...  ...   1999-09-10   \n\n      revenue runtime                                   spoken_languages  \\\n29894     0.0   103.0          [{'iso_639_1': 'fr', 'name': 'Français'}]   \n10777     0.0   100.0           [{'iso_639_1': 'en', 'name': 'English'}]   \n13972     0.0    90.0          [{'iso_639_1': 'fr', 'name': 'Français'}]   \n23161     0.0    87.0           [{'iso_639_1': 'en', 'name': 'English'}]   \n2694      0.0    94.0  [{'iso_639_1': 'pt', 'name': 'Português'}, {'i...   \n\n         status                                   tagline  \\\n29894  Released                                       NaN   \n10777  Released  It's Judy! Lighting up the lonely stage!   \n13972  Released                                       NaN   \n23161  Released                                       NaN   \n2694   Released                                       NaN   \n\n                              title  video vote_average vote_count  \n29894  You Don't Choose Your Family  False          5.8       48.0  \n10777         I Could Go on Singing  False          6.6        8.0  \n13972                     Black Box  False          5.2       23.0  \n23161                        Detour  False          5.7        9.0  \n2694                    Love Stinks  False          5.4       11.0  \n\n[5 rows x 24 columns]",
      "text/html": "<div>\n<style scoped>\n    .dataframe tbody tr th:only-of-type {\n        vertical-align: middle;\n    }\n\n    .dataframe tbody tr th {\n        vertical-align: top;\n    }\n\n    .dataframe thead th {\n        text-align: right;\n    }\n</style>\n<table border=\"1\" class=\"dataframe\">\n  <thead>\n    <tr style=\"text-align: right;\">\n      <th></th>\n      <th>adult</th>\n      <th>belongs_to_collection</th>\n      <th>budget</th>\n      <th>genres</th>\n      <th>homepage</th>\n      <th>id</th>\n      <th>imdb_id</th>\n      <th>original_language</th>\n      <th>original_title</th>\n      <th>overview</th>\n      <th>...</th>\n      <th>release_date</th>\n      <th>revenue</th>\n      <th>runtime</th>\n      <th>spoken_languages</th>\n      <th>status</th>\n      <th>tagline</th>\n      <th>title</th>\n      <th>video</th>\n      <th>vote_average</th>\n      <th>vote_count</th>\n    </tr>\n  </thead>\n  <tbody>\n    <tr>\n      <th>29894</th>\n      <td>False</td>\n      <td>NaN</td>\n      <td>0</td>\n      <td>[{'id': 35, 'name': 'Comedy'}, {'id': 12, 'nam...</td>\n      <td>NaN</td>\n      <td>78478</td>\n      <td>tt1726889</td>\n      <td>fr</td>\n      <td>On ne choisit pas sa famille</td>\n      <td>César Borgnoli, an unsuccessful car salesman f...</td>\n      <td>...</td>\n      <td>2011-11-09</td>\n      <td>0.0</td>\n      <td>103.0</td>\n      <td>[{'iso_639_1': 'fr', 'name': 'Français'}]</td>\n      <td>Released</td>\n      <td>NaN</td>\n      <td>You Don't Choose Your Family</td>\n      <td>False</td>\n      <td>5.8</td>\n      <td>48.0</td>\n    </tr>\n    <tr>\n      <th>10777</th>\n      <td>False</td>\n      <td>NaN</td>\n      <td>0</td>\n      <td>[{'id': 18, 'name': 'Drama'}, {'id': 10402, 'n...</td>\n      <td>NaN</td>\n      <td>86168</td>\n      <td>tt0057168</td>\n      <td>en</td>\n      <td>I Could Go on Singing</td>\n      <td>Jenny Bowman is a successful singer who, while...</td>\n      <td>...</td>\n      <td>1963-03-07</td>\n      <td>0.0</td>\n      <td>100.0</td>\n      <td>[{'iso_639_1': 'en', 'name': 'English'}]</td>\n      <td>Released</td>\n      <td>It's Judy! Lighting up the lonely stage!</td>\n      <td>I Could Go on Singing</td>\n      <td>False</td>\n      <td>6.6</td>\n      <td>8.0</td>\n    </tr>\n    <tr>\n      <th>13972</th>\n      <td>False</td>\n      <td>NaN</td>\n      <td>0</td>\n      <td>[{'id': 9648, 'name': 'Mystery'}, {'id': 53, '...</td>\n      <td>NaN</td>\n      <td>13730</td>\n      <td>tt0414879</td>\n      <td>fr</td>\n      <td>La Boîte noire</td>\n      <td>An accident survivor wakes from a coma and con...</td>\n      <td>...</td>\n      <td>2005-11-02</td>\n      <td>0.0</td>\n      <td>90.0</td>\n      <td>[{'iso_639_1': 'fr', 'name': 'Français'}]</td>\n      <td>Released</td>\n      <td>NaN</td>\n      <td>Black Box</td>\n      <td>False</td>\n      <td>5.2</td>\n      <td>23.0</td>\n    </tr>\n    <tr>\n      <th>23161</th>\n      <td>False</td>\n      <td>NaN</td>\n      <td>0</td>\n      <td>[{'id': 53, 'name': 'Thriller'}, {'id': 9648, ...</td>\n      <td>NaN</td>\n      <td>178603</td>\n      <td>tt1753693</td>\n      <td>en</td>\n      <td>Detour</td>\n      <td>Trapped inside his car by a mudslide, smooth t...</td>\n      <td>...</td>\n      <td>2013-03-29</td>\n      <td>0.0</td>\n      <td>87.0</td>\n      <td>[{'iso_639_1': 'en', 'name': 'English'}]</td>\n      <td>Released</td>\n      <td>NaN</td>\n      <td>Detour</td>\n      <td>False</td>\n      <td>5.7</td>\n      <td>9.0</td>\n    </tr>\n    <tr>\n      <th>2694</th>\n      <td>False</td>\n      <td>NaN</td>\n      <td>0</td>\n      <td>[{'id': 35, 'name': 'Comedy'}, {'id': 10749, '...</td>\n      <td>NaN</td>\n      <td>15122</td>\n      <td>tt0188863</td>\n      <td>en</td>\n      <td>Love Stinks</td>\n      <td>A movie about a relationship...that's worse th...</td>\n      <td>...</td>\n      <td>1999-09-10</td>\n      <td>0.0</td>\n      <td>94.0</td>\n      <td>[{'iso_639_1': 'pt', 'name': 'Português'}, {'i...</td>\n      <td>Released</td>\n      <td>NaN</td>\n      <td>Love Stinks</td>\n      <td>False</td>\n      <td>5.4</td>\n      <td>11.0</td>\n    </tr>\n  </tbody>\n</table>\n<p>5 rows × 24 columns</p>\n</div>"
     },
     "metadata": {},
     "execution_count": 11
    }
   ],
   "source": [
    "# sample function will sample random rows\n",
    "kaggleMetadata.sample(n=5)"
   ]
  },
  {
   "cell_type": "code",
   "execution_count": 12,
   "metadata": {},
   "outputs": [
    {
     "output_type": "execute_result",
     "data": {
      "text/plain": "          userId  movieId  rating   timestamp\n5496201    56676     7153     4.5  1107145312\n2221946    23034      608     4.0   851402867\n21690332  225310     1792     3.5  1441978923\n19636939  203975    64620     4.0  1441779160\n8544170    88041     1036     3.5  1083577872",
      "text/html": "<div>\n<style scoped>\n    .dataframe tbody tr th:only-of-type {\n        vertical-align: middle;\n    }\n\n    .dataframe tbody tr th {\n        vertical-align: top;\n    }\n\n    .dataframe thead th {\n        text-align: right;\n    }\n</style>\n<table border=\"1\" class=\"dataframe\">\n  <thead>\n    <tr style=\"text-align: right;\">\n      <th></th>\n      <th>userId</th>\n      <th>movieId</th>\n      <th>rating</th>\n      <th>timestamp</th>\n    </tr>\n  </thead>\n  <tbody>\n    <tr>\n      <th>5496201</th>\n      <td>56676</td>\n      <td>7153</td>\n      <td>4.5</td>\n      <td>1107145312</td>\n    </tr>\n    <tr>\n      <th>2221946</th>\n      <td>23034</td>\n      <td>608</td>\n      <td>4.0</td>\n      <td>851402867</td>\n    </tr>\n    <tr>\n      <th>21690332</th>\n      <td>225310</td>\n      <td>1792</td>\n      <td>3.5</td>\n      <td>1441978923</td>\n    </tr>\n    <tr>\n      <th>19636939</th>\n      <td>203975</td>\n      <td>64620</td>\n      <td>4.0</td>\n      <td>1441779160</td>\n    </tr>\n    <tr>\n      <th>8544170</th>\n      <td>88041</td>\n      <td>1036</td>\n      <td>3.5</td>\n      <td>1083577872</td>\n    </tr>\n  </tbody>\n</table>\n</div>"
     },
     "metadata": {},
     "execution_count": 12
    }
   ],
   "source": [
    "ratings.sample(n=5)"
   ]
  },
  {
   "cell_type": "code",
   "execution_count": 13,
   "metadata": {},
   "outputs": [],
   "source": [
    "# *****************************************\n",
    "#           Transform phase              \n",
    "# *****************************************\n",
    "\n",
    "wikiMoviesDF = pd.DataFrame(wikiMoviesRaw)"
   ]
  },
  {
   "cell_type": "code",
   "execution_count": 14,
   "metadata": {},
   "outputs": [
    {
     "output_type": "execute_result",
     "data": {
      "text/plain": "                                                 url    year  \\\n0  https://en.wikipedia.org/wiki/The_Adventures_o...  1990.0   \n1  https://en.wikipedia.org/wiki/After_Dark,_My_S...  1990.0   \n2   https://en.wikipedia.org/wiki/Air_America_(film)  1990.0   \n3    https://en.wikipedia.org/wiki/Alice_(1990_film)  1990.0   \n4      https://en.wikipedia.org/wiki/Almost_an_Angel  1990.0   \n\n                               imdb_link                            title  \\\n0  https://www.imdb.com/title/tt0098987/  The Adventures of Ford Fairlane   \n1  https://www.imdb.com/title/tt0098994/             After Dark, My Sweet   \n2  https://www.imdb.com/title/tt0099005/                      Air America   \n3  https://www.imdb.com/title/tt0099012/                            Alice   \n4  https://www.imdb.com/title/tt0099018/                  Almost an Angel   \n\n          Directed by                  Produced by  \\\n0        Renny Harlin   [Steve Perry, Joel Silver]   \n1         James Foley  [Ric Kidney, Robert Redlin]   \n2  Roger Spottiswoode               Daniel Melnick   \n3         Woody Allen              Robert Greenhut   \n4        John Cornell                 John Cornell   \n\n                                Screenplay by                     Story by  \\\n0  [David Arnott, James Cappe, Daniel Waters]  [David Arnott, James Cappe]   \n1                [James Foley, Robert Redlin]                          NaN   \n2                  [John Eskow, Richard Rush]                          NaN   \n3                                         NaN                          NaN   \n4                                         NaN                          NaN   \n\n                                            Based on  \\\n0                        [Characters, by Rex Weiner]   \n1  [the novel, After Dark, My Sweet, by, Jim Thom...   \n2             [Air America, by, Christopher Robbins]   \n3                                                NaN   \n4                                                NaN   \n\n                                            Starring  ... Predecessor  \\\n0  [Andrew Dice Clay, Wayne Newton, Priscilla Pre...  ...         NaN   \n1  [Jason Patric, Rachel Ward, Bruce Dern, George...  ...         NaN   \n2  [Mel Gibson, Robert Downey Jr., Nancy Travis, ...  ...         NaN   \n3  [Alec Baldwin, Blythe Danner, Judy Davis, Mia ...  ...         NaN   \n4        [Paul Hogan, Elias Koteas, Linda Kozlowski]  ...         NaN   \n\n  Founders Area served Products Services Russian Hebrew Revenue  \\\n0      NaN         NaN      NaN      NaN     NaN    NaN     NaN   \n1      NaN         NaN      NaN      NaN     NaN    NaN     NaN   \n2      NaN         NaN      NaN      NaN     NaN    NaN     NaN   \n3      NaN         NaN      NaN      NaN     NaN    NaN     NaN   \n4      NaN         NaN      NaN      NaN     NaN    NaN     NaN   \n\n  Operating income Polish  \n0              NaN    NaN  \n1              NaN    NaN  \n2              NaN    NaN  \n3              NaN    NaN  \n4              NaN    NaN  \n\n[5 rows x 193 columns]",
      "text/html": "<div>\n<style scoped>\n    .dataframe tbody tr th:only-of-type {\n        vertical-align: middle;\n    }\n\n    .dataframe tbody tr th {\n        vertical-align: top;\n    }\n\n    .dataframe thead th {\n        text-align: right;\n    }\n</style>\n<table border=\"1\" class=\"dataframe\">\n  <thead>\n    <tr style=\"text-align: right;\">\n      <th></th>\n      <th>url</th>\n      <th>year</th>\n      <th>imdb_link</th>\n      <th>title</th>\n      <th>Directed by</th>\n      <th>Produced by</th>\n      <th>Screenplay by</th>\n      <th>Story by</th>\n      <th>Based on</th>\n      <th>Starring</th>\n      <th>...</th>\n      <th>Predecessor</th>\n      <th>Founders</th>\n      <th>Area served</th>\n      <th>Products</th>\n      <th>Services</th>\n      <th>Russian</th>\n      <th>Hebrew</th>\n      <th>Revenue</th>\n      <th>Operating income</th>\n      <th>Polish</th>\n    </tr>\n  </thead>\n  <tbody>\n    <tr>\n      <th>0</th>\n      <td>https://en.wikipedia.org/wiki/The_Adventures_o...</td>\n      <td>1990.0</td>\n      <td>https://www.imdb.com/title/tt0098987/</td>\n      <td>The Adventures of Ford Fairlane</td>\n      <td>Renny Harlin</td>\n      <td>[Steve Perry, Joel Silver]</td>\n      <td>[David Arnott, James Cappe, Daniel Waters]</td>\n      <td>[David Arnott, James Cappe]</td>\n      <td>[Characters, by Rex Weiner]</td>\n      <td>[Andrew Dice Clay, Wayne Newton, Priscilla Pre...</td>\n      <td>...</td>\n      <td>NaN</td>\n      <td>NaN</td>\n      <td>NaN</td>\n      <td>NaN</td>\n      <td>NaN</td>\n      <td>NaN</td>\n      <td>NaN</td>\n      <td>NaN</td>\n      <td>NaN</td>\n      <td>NaN</td>\n    </tr>\n    <tr>\n      <th>1</th>\n      <td>https://en.wikipedia.org/wiki/After_Dark,_My_S...</td>\n      <td>1990.0</td>\n      <td>https://www.imdb.com/title/tt0098994/</td>\n      <td>After Dark, My Sweet</td>\n      <td>James Foley</td>\n      <td>[Ric Kidney, Robert Redlin]</td>\n      <td>[James Foley, Robert Redlin]</td>\n      <td>NaN</td>\n      <td>[the novel, After Dark, My Sweet, by, Jim Thom...</td>\n      <td>[Jason Patric, Rachel Ward, Bruce Dern, George...</td>\n      <td>...</td>\n      <td>NaN</td>\n      <td>NaN</td>\n      <td>NaN</td>\n      <td>NaN</td>\n      <td>NaN</td>\n      <td>NaN</td>\n      <td>NaN</td>\n      <td>NaN</td>\n      <td>NaN</td>\n      <td>NaN</td>\n    </tr>\n    <tr>\n      <th>2</th>\n      <td>https://en.wikipedia.org/wiki/Air_America_(film)</td>\n      <td>1990.0</td>\n      <td>https://www.imdb.com/title/tt0099005/</td>\n      <td>Air America</td>\n      <td>Roger Spottiswoode</td>\n      <td>Daniel Melnick</td>\n      <td>[John Eskow, Richard Rush]</td>\n      <td>NaN</td>\n      <td>[Air America, by, Christopher Robbins]</td>\n      <td>[Mel Gibson, Robert Downey Jr., Nancy Travis, ...</td>\n      <td>...</td>\n      <td>NaN</td>\n      <td>NaN</td>\n      <td>NaN</td>\n      <td>NaN</td>\n      <td>NaN</td>\n      <td>NaN</td>\n      <td>NaN</td>\n      <td>NaN</td>\n      <td>NaN</td>\n      <td>NaN</td>\n    </tr>\n    <tr>\n      <th>3</th>\n      <td>https://en.wikipedia.org/wiki/Alice_(1990_film)</td>\n      <td>1990.0</td>\n      <td>https://www.imdb.com/title/tt0099012/</td>\n      <td>Alice</td>\n      <td>Woody Allen</td>\n      <td>Robert Greenhut</td>\n      <td>NaN</td>\n      <td>NaN</td>\n      <td>NaN</td>\n      <td>[Alec Baldwin, Blythe Danner, Judy Davis, Mia ...</td>\n      <td>...</td>\n      <td>NaN</td>\n      <td>NaN</td>\n      <td>NaN</td>\n      <td>NaN</td>\n      <td>NaN</td>\n      <td>NaN</td>\n      <td>NaN</td>\n      <td>NaN</td>\n      <td>NaN</td>\n      <td>NaN</td>\n    </tr>\n    <tr>\n      <th>4</th>\n      <td>https://en.wikipedia.org/wiki/Almost_an_Angel</td>\n      <td>1990.0</td>\n      <td>https://www.imdb.com/title/tt0099018/</td>\n      <td>Almost an Angel</td>\n      <td>John Cornell</td>\n      <td>John Cornell</td>\n      <td>NaN</td>\n      <td>NaN</td>\n      <td>NaN</td>\n      <td>[Paul Hogan, Elias Koteas, Linda Kozlowski]</td>\n      <td>...</td>\n      <td>NaN</td>\n      <td>NaN</td>\n      <td>NaN</td>\n      <td>NaN</td>\n      <td>NaN</td>\n      <td>NaN</td>\n      <td>NaN</td>\n      <td>NaN</td>\n      <td>NaN</td>\n      <td>NaN</td>\n    </tr>\n  </tbody>\n</table>\n<p>5 rows × 193 columns</p>\n</div>"
     },
     "metadata": {},
     "execution_count": 14
    }
   ],
   "source": [
    "# Check first 5 rows\n",
    "wikiMoviesDF.head()"
   ]
  },
  {
   "cell_type": "code",
   "execution_count": 15,
   "metadata": {},
   "outputs": [
    {
     "output_type": "execute_result",
     "data": {
      "text/plain": "['url',\n 'year',\n 'imdb_link',\n 'title',\n 'Directed by',\n 'Produced by',\n 'Screenplay by',\n 'Story by',\n 'Based on',\n 'Starring',\n 'Narrated by',\n 'Music by',\n 'Cinematography',\n 'Edited by',\n 'Productioncompany ',\n 'Distributed by',\n 'Release date',\n 'Running time',\n 'Country',\n 'Language',\n 'Budget',\n 'Box office',\n 'Written by',\n 'Genre',\n 'Theme music composer',\n 'Country of origin',\n 'Original language(s)',\n 'Producer(s)',\n 'Editor(s)',\n 'Production company(s)',\n 'Original network',\n 'Original release',\n 'Productioncompanies ',\n 'Executive producer(s)',\n 'Production location(s)',\n 'Distributor',\n 'Picture format',\n 'Audio format',\n 'Voices of',\n 'Followed by',\n 'Composer(s)',\n 'Created by',\n 'Also known as',\n 'Opening theme',\n 'No. of episodes',\n 'Preceded by',\n 'Author',\n 'Publisher',\n 'Publication date',\n 'Media type',\n 'Pages',\n 'ISBN',\n 'OCLC',\n 'LC Class',\n 'Cover artist',\n 'Series',\n 'Set in',\n 'Adaptation by',\n 'Suggested by',\n 'Biographical data',\n 'Born',\n 'Died',\n 'Resting place',\n 'Occupation',\n 'Years active',\n 'Spouse(s)',\n 'Children',\n 'Parent(s)',\n 'Genres',\n 'Instruments',\n 'Labels',\n 'Website',\n 'Traditional',\n 'Mandarin',\n 'Type',\n 'Industry',\n 'Fate',\n 'Founded',\n 'Founder',\n 'Headquarters',\n 'Parent',\n 'Released',\n 'Recorded',\n 'Venue',\n 'Length',\n 'Label',\n 'Director',\n 'Producer',\n 'Area',\n 'Coordinates',\n 'Status',\n 'Opening date',\n 'Closing date',\n 'Replaced',\n 'Replaced by',\n 'Name',\n 'Attraction type',\n 'Music',\n 'Duration',\n 'Simplified Chinese',\n 'Traditional Chinese',\n 'Hanyu Pinyin',\n 'Literal meaning',\n 'Transcriptions',\n 'Bopomofo',\n 'Gwoyeu Romatzyh',\n 'Wade–Giles',\n 'IPA',\n 'Yale Romanization',\n 'Jyutping',\n 'Hokkien POJ',\n 'Animation by',\n 'Color process',\n 'Engine(s)',\n 'Genre(s)',\n 'Actor control',\n 'Production company',\n 'Release(s)',\n 'Format(s)',\n 'Simplified',\n 'Characters',\n 'Date premiered',\n 'Place premiered',\n 'Setting',\n 'Original language',\n 'Subject',\n 'Published',\n 'Dewey Decimal',\n 'Text',\n 'Illustrator',\n 'Original title',\n 'Published in English',\n 'French',\n 'Developed by',\n 'Ending theme',\n 'No. of seasons',\n 'Nationality',\n 'Portrayed by',\n 'Alias',\n 'Species',\n 'Gender',\n 'Family',\n 'Alma mater',\n 'Camera setup',\n 'Novel(s)',\n 'Comics',\n 'Film(s)',\n 'Screen story by',\n 'Hangul',\n 'Revised Romanization',\n 'McCune–Reischauer',\n 'Developer(s)',\n 'Publisher(s)',\n 'Designer(s)',\n 'Programmer(s)',\n 'Artist(s)',\n 'Writer(s)',\n 'Engine',\n 'Platform(s)',\n 'Release',\n 'Mode(s)',\n 'Original work',\n 'Television series',\n 'Japanese',\n 'Hepburn',\n 'Literally',\n 'Cantonese',\n 'Full name',\n 'Height',\n 'Seasons',\n 'Chinese',\n 'Other names',\n 'Relatives',\n 'Yiddish',\n 'Formerly',\n 'Key people',\n 'Total assets',\n 'Owner',\n 'Number of employees',\n 'Divisions',\n 'Subsidiaries',\n 'Arabic',\n 'Romanized',\n 'Predecessor',\n 'Founders',\n 'Area served',\n 'Products',\n 'Services',\n 'Russian',\n 'Hebrew',\n 'Revenue',\n 'Operating income',\n 'Polish']"
     },
     "metadata": {},
     "execution_count": 15
    }
   ],
   "source": [
    "# Having 193 columns they will not be printed if only executing wikiMoviesDF.columns, it is needed to convert it to a list\n",
    "wikiMoviesDF.columns.to_list()"
   ]
  },
  {
   "cell_type": "code",
   "execution_count": 16,
   "metadata": {},
   "outputs": [
    {
     "output_type": "execute_result",
     "data": {
      "text/plain": "7080"
     },
     "metadata": {},
     "execution_count": 16
    }
   ],
   "source": [
    "# List comprehension to filter the data\n",
    "wikiMovies = [movie for movie in wikiMoviesRaw \n",
    "    if(\"Director\" in movie or \"Directed by\" in movie) \n",
    "        and \"imdb_link\" in movie]\n",
    "len(wikiMovies)"
   ]
  },
  {
   "cell_type": "code",
   "execution_count": 17,
   "metadata": {
    "tags": []
   },
   "outputs": [
    {
     "output_type": "stream",
     "name": "stdout",
     "text": "78\n"
    },
    {
     "output_type": "execute_result",
     "data": {
      "text/plain": "['url',\n 'year',\n 'imdb_link',\n 'title',\n 'Directed by',\n 'Produced by',\n 'Screenplay by',\n 'Story by',\n 'Based on',\n 'Starring',\n 'Narrated by',\n 'Music by',\n 'Cinematography',\n 'Edited by',\n 'Productioncompany ',\n 'Distributed by',\n 'Release date',\n 'Running time',\n 'Country',\n 'Language',\n 'Budget',\n 'Box office',\n 'Written by',\n 'Genre',\n 'Theme music composer',\n 'Country of origin',\n 'Original language(s)',\n 'Producer(s)',\n 'Editor(s)',\n 'Production company(s)',\n 'Original network',\n 'Original release',\n 'Productioncompanies ',\n 'Executive producer(s)',\n 'Production location(s)',\n 'Distributor',\n 'Picture format',\n 'Audio format',\n 'Voices of',\n 'Followed by',\n 'Composer(s)',\n 'Created by',\n 'Also known as',\n 'Opening theme',\n 'No. of episodes',\n 'Preceded by',\n 'Adaptation by',\n 'Suggested by',\n 'Traditional',\n 'Mandarin',\n 'Released',\n 'Recorded',\n 'Venue',\n 'Length',\n 'Label',\n 'Director',\n 'Producer',\n 'Animation by',\n 'Color process',\n 'Simplified',\n 'French',\n 'Camera setup',\n 'Screen story by',\n 'Hangul',\n 'Revised Romanization',\n 'McCune–Reischauer',\n 'Original title',\n 'Japanese',\n 'Hepburn',\n 'Literally',\n 'Cantonese',\n 'Chinese',\n 'Yiddish',\n 'Arabic',\n 'Romanized',\n 'Russian',\n 'Hebrew',\n 'Polish']"
     },
     "metadata": {},
     "execution_count": 17
    }
   ],
   "source": [
    "wikiMoviesDF = pd.DataFrame(wikiMovies)\n",
    "# Check current number of columns\n",
    "print(len(wikiMoviesDF.columns.to_list()))\n",
    "# Print columns\n",
    "wikiMoviesDF.columns.to_list()"
   ]
  },
  {
   "cell_type": "code",
   "execution_count": 18,
   "metadata": {},
   "outputs": [
    {
     "output_type": "execute_result",
     "data": {
      "text/plain": "7076"
     },
     "metadata": {},
     "execution_count": 18
    }
   ],
   "source": [
    "# The column \"No. of episodes\" indicates TV shows are inclueded. We clear them out\n",
    "\n",
    "# List comprehension to filter the data\n",
    "wikiMovies = [movie for movie in wikiMoviesRaw \n",
    "    if (\"Director\" in movie or \"Directed by\" in movie) \n",
    "        and \"imdb_link\" in movie\n",
    "        and 'No. of episodes' not in movie]\n",
    "len(wikiMovies)"
   ]
  },
  {
   "cell_type": "code",
   "execution_count": 19,
   "metadata": {},
   "outputs": [
    {
     "output_type": "execute_result",
     "data": {
      "text/plain": "                                                  url  year  \\\n6838  https://en.wikipedia.org/wiki/The_Insult_(film)  2018   \n7062   https://en.wikipedia.org/wiki/Capernaum_(film)  2018   \n\n                                  imdb_link       title    Directed by  \\\n6838  https://www.imdb.com/title/tt7048622/  The Insult   Ziad Doueiri   \n7062  https://www.imdb.com/title/tt8267604/   Capernaum  Nadine Labaki   \n\n                                            Produced by  \\\n6838  [Rachid Bouchareb, Jean Bréhat, Julie Gayet, A...   \n7062                    [Michel Merkt, Khaled Mouzanar]   \n\n                                          Screenplay by  \\\n6838                                                NaN   \n7062  [Nadine Labaki, Jihad Hojaily, Michelle Keserw...   \n\n                                               Story by Based on  \\\n6838                                                NaN      NaN   \n7062  [Georges Khabbaz, Nadine Labaki, Michelle Kese...      NaN   \n\n                                               Starring  ... Hepburn  \\\n6838                       [Adel Karam, Kamel El Basha]  ...     NaN   \n7062  [Zain Al Rafeea, Yordanos Shiferaw, Boluwatife...  ...     NaN   \n\n        Literally Cantonese Chinese Yiddish       Arabic        Romanized  \\\n6838  Case No. 23       NaN     NaN     NaN  قضية رقم ٢٣  Qadiyya raqm 23   \n7062          NaN       NaN     NaN     NaN    کفرناحوم‎              NaN   \n\n     Russian Hebrew Polish  \n6838     NaN    NaN    NaN  \n7062     NaN    NaN    NaN  \n\n[2 rows x 78 columns]",
      "text/html": "<div>\n<style scoped>\n    .dataframe tbody tr th:only-of-type {\n        vertical-align: middle;\n    }\n\n    .dataframe tbody tr th {\n        vertical-align: top;\n    }\n\n    .dataframe thead th {\n        text-align: right;\n    }\n</style>\n<table border=\"1\" class=\"dataframe\">\n  <thead>\n    <tr style=\"text-align: right;\">\n      <th></th>\n      <th>url</th>\n      <th>year</th>\n      <th>imdb_link</th>\n      <th>title</th>\n      <th>Directed by</th>\n      <th>Produced by</th>\n      <th>Screenplay by</th>\n      <th>Story by</th>\n      <th>Based on</th>\n      <th>Starring</th>\n      <th>...</th>\n      <th>Hepburn</th>\n      <th>Literally</th>\n      <th>Cantonese</th>\n      <th>Chinese</th>\n      <th>Yiddish</th>\n      <th>Arabic</th>\n      <th>Romanized</th>\n      <th>Russian</th>\n      <th>Hebrew</th>\n      <th>Polish</th>\n    </tr>\n  </thead>\n  <tbody>\n    <tr>\n      <th>6838</th>\n      <td>https://en.wikipedia.org/wiki/The_Insult_(film)</td>\n      <td>2018</td>\n      <td>https://www.imdb.com/title/tt7048622/</td>\n      <td>The Insult</td>\n      <td>Ziad Doueiri</td>\n      <td>[Rachid Bouchareb, Jean Bréhat, Julie Gayet, A...</td>\n      <td>NaN</td>\n      <td>NaN</td>\n      <td>NaN</td>\n      <td>[Adel Karam, Kamel El Basha]</td>\n      <td>...</td>\n      <td>NaN</td>\n      <td>Case No. 23</td>\n      <td>NaN</td>\n      <td>NaN</td>\n      <td>NaN</td>\n      <td>قضية رقم ٢٣</td>\n      <td>Qadiyya raqm 23</td>\n      <td>NaN</td>\n      <td>NaN</td>\n      <td>NaN</td>\n    </tr>\n    <tr>\n      <th>7062</th>\n      <td>https://en.wikipedia.org/wiki/Capernaum_(film)</td>\n      <td>2018</td>\n      <td>https://www.imdb.com/title/tt8267604/</td>\n      <td>Capernaum</td>\n      <td>Nadine Labaki</td>\n      <td>[Michel Merkt, Khaled Mouzanar]</td>\n      <td>[Nadine Labaki, Jihad Hojaily, Michelle Keserw...</td>\n      <td>[Georges Khabbaz, Nadine Labaki, Michelle Kese...</td>\n      <td>NaN</td>\n      <td>[Zain Al Rafeea, Yordanos Shiferaw, Boluwatife...</td>\n      <td>...</td>\n      <td>NaN</td>\n      <td>NaN</td>\n      <td>NaN</td>\n      <td>NaN</td>\n      <td>NaN</td>\n      <td>کفرناحوم‎</td>\n      <td>NaN</td>\n      <td>NaN</td>\n      <td>NaN</td>\n      <td>NaN</td>\n    </tr>\n  </tbody>\n</table>\n<p>2 rows × 78 columns</p>\n</div>"
     },
     "metadata": {},
     "execution_count": 19
    }
   ],
   "source": [
    "# Clean bad data from each movie (alternative titles)\n",
    "# -----------------------------------------------------\n",
    "# Arabic movies\n",
    "wikiMoviesDF[wikiMoviesDF[\"Arabic\"].notnull()]"
   ]
  },
  {
   "cell_type": "code",
   "execution_count": 20,
   "metadata": {},
   "outputs": [
    {
     "output_type": "execute_result",
     "data": {
      "text/plain": "6838    https://en.wikipedia.org/wiki/The_Insult_(film)\n7062     https://en.wikipedia.org/wiki/Capernaum_(film)\nName: url, dtype: object"
     },
     "metadata": {},
     "execution_count": 20
    }
   ],
   "source": [
    "# We check urls to fully understand the meaning of that column\n",
    "wikiMoviesDF[wikiMoviesDF[\"Arabic\"].notnull()][\"url\"]"
   ]
  },
  {
   "cell_type": "code",
   "execution_count": 21,
   "metadata": {},
   "outputs": [
    {
     "output_type": "execute_result",
     "data": {
      "text/plain": "6460    https://en.wikipedia.org/wiki/Ip_Man_3\nName: url, dtype: object"
     },
     "metadata": {},
     "execution_count": 21
    }
   ],
   "source": [
    "# Find out which, like Arabic, are Alternate names\n",
    "sorted(wikiMoviesDF.columns.tolist())\n",
    "wikiMoviesDF[wikiMoviesDF[\"Cantonese\"].notnull()][\"url\"]"
   ]
  },
  {
   "cell_type": "code",
   "execution_count": 22,
   "metadata": {
    "tags": []
   },
   "outputs": [
    {
     "output_type": "stream",
     "name": "stdout",
     "text": "Theme music composer -----> 69\nExecutive producer(s) -----> 100\nProduction location(s) -----> 50\nPicture format -----> 68\nAudio format -----> 64\nVoices of -----> 2\nFollowed by -----> 9\nComposer(s) -----> 9\nCreated by -----> 11\nAlso known as -----> 2\nOpening theme -----> 1\nNo. of episodes -----> 4\nPreceded by -----> 10\nAdaptation by -----> 2\nSuggested by -----> 1\nTraditional -----> 5\nMandarin -----> 4\nReleased -----> 2\nRecorded -----> 2\nVenue -----> 1\nLength -----> 2\nLabel -----> 2\nDirector -----> 2\nProducer -----> 2\nAnimation by -----> 2\nColor process -----> 1\nSimplified -----> 4\nFrench -----> 1\nCamera setup -----> 1\nScreen story by -----> 1\nHangul -----> 2\nRevised Romanization -----> 2\nMcCune–Reischauer -----> 2\nOriginal title -----> 1\nJapanese -----> 4\nHepburn -----> 4\nLiterally -----> 3\nCantonese -----> 1\nChinese -----> 1\nYiddish -----> 1\nArabic -----> 2\nRomanized -----> 2\nRussian -----> 1\nHebrew -----> 1\nPolish -----> 1\n"
    }
   ],
   "source": [
    "for col in wikiMoviesDF.columns.to_list():\n",
    "    counter = wikiMoviesDF[wikiMoviesDF[col].notnull()].count()[col]\n",
    "    if counter <=100:\n",
    "        print(f\"{col} -----> {counter}\")\n",
    "    # len(wikiMoviesDF[col])"
   ]
  },
  {
   "cell_type": "code",
   "execution_count": 23,
   "metadata": {},
   "outputs": [],
   "source": [
    "# Function to clean bad data from each movie\n",
    "def cleanMovie(movie):\n",
    "    movie = dict(movie) # create a non-destructive copy\n",
    "    altTitles = {}\n",
    "    for key in ['Also known as','Arabic','Cantonese','Chinese','French',\n",
    "                'Hangul','Hebrew','Hepburn','Japanese','Literally',\n",
    "                'Mandarin','McCune–Reischauer','Original title','Polish',\n",
    "                'Revised Romanization','Romanized','Russian',\n",
    "                'Simplified','Traditional','Yiddish']:\n",
    "        if key in movie:\n",
    "            altTitles[key]=movie[key]\n",
    "            movie.pop(key)\n",
    "    \n",
    "    if len(altTitles) > 0:\n",
    "        movie[\"alt_titles\"] = altTitles\n",
    "\n",
    "    return movie\n"
   ]
  },
  {
   "cell_type": "code",
   "execution_count": 24,
   "metadata": {},
   "outputs": [],
   "source": [
    "# Create a list applying the previous function\n",
    "cleanMovies = [cleanMovie(movie) for movie in wikiMovies]"
   ]
  },
  {
   "cell_type": "code",
   "execution_count": 25,
   "metadata": {},
   "outputs": [
    {
     "output_type": "execute_result",
     "data": {
      "text/plain": "[{'url': 'https://en.wikipedia.org/wiki/The_Adventures_of_Ford_Fairlane',\n  'year': 1990,\n  'imdb_link': 'https://www.imdb.com/title/tt0098987/',\n  'title': 'The Adventures of Ford Fairlane',\n  'Directed by': 'Renny Harlin',\n  'Produced by': ['Steve Perry', 'Joel Silver'],\n  'Screenplay by': ['David Arnott', 'James Cappe', 'Daniel Waters'],\n  'Story by': ['David Arnott', 'James Cappe'],\n  'Based on': ['Characters', 'by Rex Weiner'],\n  'Starring': ['Andrew Dice Clay',\n   'Wayne Newton',\n   'Priscilla Presley',\n   'Lauren Holly',\n   'Morris Day',\n   'Robert Englund',\n   \"Ed O'Neill\"],\n  'Narrated by': 'Andrew \"Dice\" Clay',\n  'Music by': ['Cliff Eidelman', 'Yello'],\n  'Cinematography': 'Oliver Wood',\n  'Edited by': 'Michael Tronick',\n  'Productioncompany ': 'Silver Pictures',\n  'Distributed by': '20th Century Fox',\n  'Release date': ['July 11, 1990', '(', '1990-07-11', ')'],\n  'Running time': '102 minutes',\n  'Country': 'United States',\n  'Language': 'English',\n  'Budget': '$20 million',\n  'Box office': '$21.4 million'},\n {'url': 'https://en.wikipedia.org/wiki/After_Dark,_My_Sweet',\n  'year': 1990,\n  'imdb_link': 'https://www.imdb.com/title/tt0098994/',\n  'title': 'After Dark, My Sweet',\n  'Directed by': 'James Foley',\n  'Produced by': ['Ric Kidney', 'Robert Redlin'],\n  'Screenplay by': ['James Foley', 'Robert Redlin'],\n  'Based on': ['the novel', 'After Dark, My Sweet', 'by', 'Jim Thompson'],\n  'Starring': ['Jason Patric',\n   'Rachel Ward',\n   'Bruce Dern',\n   'George Dickerson'],\n  'Music by': 'Maurice Jarre',\n  'Cinematography': 'Mark Plummer',\n  'Edited by': 'Howard E. Smith',\n  'Productioncompany ': 'Avenue Pictures',\n  'Distributed by': 'Avenue Pictures',\n  'Release date': ['May 17, 1990',\n   '(',\n   '1990-05-17',\n   ')',\n   '(Cannes Film Market)',\n   'August 24, 1990',\n   '(',\n   '1990-08-24',\n   ')',\n   '(United States)'],\n  'Running time': '114 minutes',\n  'Country': 'United States',\n  'Language': 'English',\n  'Budget': '$6 million',\n  'Box office': '$2.7 million'},\n {'url': 'https://en.wikipedia.org/wiki/Air_America_(film)',\n  'year': 1990,\n  'imdb_link': 'https://www.imdb.com/title/tt0099005/',\n  'title': 'Air America',\n  'Directed by': 'Roger Spottiswoode',\n  'Produced by': 'Daniel Melnick',\n  'Screenplay by': ['John Eskow', 'Richard Rush'],\n  'Based on': ['Air America', 'by', 'Christopher Robbins'],\n  'Starring': ['Mel Gibson',\n   'Robert Downey Jr.',\n   'Nancy Travis',\n   'David Marshall Grant',\n   'Lane Smith'],\n  'Music by': 'Charles Gross',\n  'Cinematography': 'Roger Deakins',\n  'Edited by': ['John Bloom', 'Lois Freeman-Fox'],\n  'Productioncompany ': ['Carolco Pictures', 'IndieProd Company'],\n  'Distributed by': 'TriStar Pictures',\n  'Release date': ['August 10, 1990', '(', '1990-08-10', ')'],\n  'Running time': '113 minutes',\n  'Country': 'United States',\n  'Language': ['English', 'Lao'],\n  'Budget': '$35 million',\n  'Box office': '$57,718,089'}]"
     },
     "metadata": {},
     "execution_count": 25
    }
   ],
   "source": [
    "# Check result dictionary\n",
    "cleanMovies[:3]"
   ]
  },
  {
   "cell_type": "code",
   "execution_count": 26,
   "metadata": {
    "tags": []
   },
   "outputs": [
    {
     "output_type": "stream",
     "name": "stdout",
     "text": "56\n"
    },
    {
     "output_type": "execute_result",
     "data": {
      "text/plain": "['Adaptation by',\n 'Animation by',\n 'Audio format',\n 'Based on',\n 'Box office',\n 'Budget',\n 'Cinematography',\n 'Color process',\n 'Composer(s)',\n 'Country',\n 'Country of origin',\n 'Created by',\n 'Directed by',\n 'Director',\n 'Distributed by',\n 'Distributor',\n 'Edited by',\n 'Editor(s)',\n 'Executive producer(s)',\n 'Followed by',\n 'Genre',\n 'Label',\n 'Language',\n 'Length',\n 'Music by',\n 'Narrated by',\n 'Original language(s)',\n 'Original network',\n 'Original release',\n 'Picture format',\n 'Preceded by',\n 'Produced by',\n 'Producer',\n 'Producer(s)',\n 'Production company(s)',\n 'Production location(s)',\n 'Productioncompanies ',\n 'Productioncompany ',\n 'Recorded',\n 'Release date',\n 'Released',\n 'Running time',\n 'Screen story by',\n 'Screenplay by',\n 'Starring',\n 'Story by',\n 'Suggested by',\n 'Theme music composer',\n 'Venue',\n 'Voices of',\n 'Written by',\n 'alt_titles',\n 'imdb_link',\n 'title',\n 'url',\n 'year']"
     },
     "metadata": {},
     "execution_count": 26
    }
   ],
   "source": [
    "# Create dataframe with cleaned data\n",
    "wikiMoviesDF = pd.DataFrame(cleanMovies)\n",
    "# Print the number of columns\n",
    "print(len(wikiMoviesDF.columns.to_list()))\n",
    "# Print column names\n",
    "sorted(wikiMoviesDF.columns.to_list())"
   ]
  },
  {
   "cell_type": "code",
   "execution_count": 27,
   "metadata": {},
   "outputs": [],
   "source": [
    "# Redefine the function clean data to add a inner function that renames column names\n",
    "\n",
    "# Function to clean bad data from each movie\n",
    "def cleanMovie(movie):\n",
    "    movie = dict(movie) # create a non-destructive copy\n",
    "    altTitles = {}\n",
    "    for key in ['Also known as','Arabic','Cantonese','Chinese','French',\n",
    "                'Hangul','Hebrew','Hepburn','Japanese','Literally',\n",
    "                'Mandarin','McCune–Reischauer','Original title','Polish',\n",
    "                'Revised Romanization','Romanized','Russian',\n",
    "                'Simplified','Traditional','Yiddish']:\n",
    "        if key in movie:\n",
    "            altTitles[key]=movie[key]\n",
    "            movie.pop(key)\n",
    "    \n",
    "    if len(altTitles) > 0:\n",
    "        movie[\"alt_titles\"] = altTitles\n",
    "    \n",
    "    # Function to change the name of a column\n",
    "    def changeColumnName(oldName, newName):\n",
    "        if oldName in movie:\n",
    "            movie[newName] = movie.pop(oldName)\n",
    "\n",
    "    # Change the name columns with different name but same data content  \n",
    "    changeColumnName('Adaptation by', 'Writer(s)')\n",
    "    changeColumnName('Country of origin', 'Country')          \n",
    "    changeColumnName(\"Directed by\", \"Director\")\n",
    "    changeColumnName(\"Distributed by\", \"Distributor\")\n",
    "    changeColumnName(\"Edited by\", \"Editor(s)\")\n",
    "    changeColumnName('Length', 'Running time')\n",
    "    changeColumnName('Original release', 'Release date')\n",
    "    changeColumnName('Music by', 'Composer(s)')\n",
    "    changeColumnName(\"Produced by\", \"Producer(s)\")\n",
    "    changeColumnName(\"Producer\", \"Producer(s)\")\n",
    "    changeColumnName('Productioncompanies ', 'Production company(s)')\n",
    "    changeColumnName('Productioncompany ', 'Production company(s)')\n",
    "    changeColumnName(\"Released\", \"Release date\")\n",
    "    changeColumnName('Screen story by', 'Writer(s)')\n",
    "    changeColumnName('Screenplay by', 'Writer(s)')\n",
    "    changeColumnName('Story by', 'Writer(s)')\n",
    "    changeColumnName('Theme music composer', 'Composer(s)')\n",
    "    changeColumnName('Written by', 'Writer(s)')\n",
    "\n",
    "    return movie"
   ]
  },
  {
   "cell_type": "code",
   "execution_count": 28,
   "metadata": {},
   "outputs": [],
   "source": [
    "# Recreate the cleanMovies list with the modified function\n",
    "cleanMovies = [cleanMovie(movie) for movie in wikiMovies]"
   ]
  },
  {
   "cell_type": "code",
   "execution_count": 29,
   "metadata": {},
   "outputs": [
    {
     "output_type": "execute_result",
     "data": {
      "text/plain": "[{'url': 'https://en.wikipedia.org/wiki/The_Adventures_of_Ford_Fairlane',\n  'year': 1990,\n  'imdb_link': 'https://www.imdb.com/title/tt0098987/',\n  'title': 'The Adventures of Ford Fairlane',\n  'Based on': ['Characters', 'by Rex Weiner'],\n  'Starring': ['Andrew Dice Clay',\n   'Wayne Newton',\n   'Priscilla Presley',\n   'Lauren Holly',\n   'Morris Day',\n   'Robert Englund',\n   \"Ed O'Neill\"],\n  'Narrated by': 'Andrew \"Dice\" Clay',\n  'Cinematography': 'Oliver Wood',\n  'Release date': ['July 11, 1990', '(', '1990-07-11', ')'],\n  'Running time': '102 minutes',\n  'Country': 'United States',\n  'Language': 'English',\n  'Budget': '$20 million',\n  'Box office': '$21.4 million',\n  'Director': 'Renny Harlin',\n  'Distributor': '20th Century Fox',\n  'Editor(s)': 'Michael Tronick',\n  'Composer(s)': ['Cliff Eidelman', 'Yello'],\n  'Producer(s)': ['Steve Perry', 'Joel Silver'],\n  'Production company(s)': 'Silver Pictures',\n  'Writer(s)': ['David Arnott', 'James Cappe']},\n {'url': 'https://en.wikipedia.org/wiki/After_Dark,_My_Sweet',\n  'year': 1990,\n  'imdb_link': 'https://www.imdb.com/title/tt0098994/',\n  'title': 'After Dark, My Sweet',\n  'Based on': ['the novel', 'After Dark, My Sweet', 'by', 'Jim Thompson'],\n  'Starring': ['Jason Patric',\n   'Rachel Ward',\n   'Bruce Dern',\n   'George Dickerson'],\n  'Cinematography': 'Mark Plummer',\n  'Release date': ['May 17, 1990',\n   '(',\n   '1990-05-17',\n   ')',\n   '(Cannes Film Market)',\n   'August 24, 1990',\n   '(',\n   '1990-08-24',\n   ')',\n   '(United States)'],\n  'Running time': '114 minutes',\n  'Country': 'United States',\n  'Language': 'English',\n  'Budget': '$6 million',\n  'Box office': '$2.7 million',\n  'Director': 'James Foley',\n  'Distributor': 'Avenue Pictures',\n  'Editor(s)': 'Howard E. Smith',\n  'Composer(s)': 'Maurice Jarre',\n  'Producer(s)': ['Ric Kidney', 'Robert Redlin'],\n  'Production company(s)': 'Avenue Pictures',\n  'Writer(s)': ['James Foley', 'Robert Redlin']},\n {'url': 'https://en.wikipedia.org/wiki/Air_America_(film)',\n  'year': 1990,\n  'imdb_link': 'https://www.imdb.com/title/tt0099005/',\n  'title': 'Air America',\n  'Based on': ['Air America', 'by', 'Christopher Robbins'],\n  'Starring': ['Mel Gibson',\n   'Robert Downey Jr.',\n   'Nancy Travis',\n   'David Marshall Grant',\n   'Lane Smith'],\n  'Cinematography': 'Roger Deakins',\n  'Release date': ['August 10, 1990', '(', '1990-08-10', ')'],\n  'Running time': '113 minutes',\n  'Country': 'United States',\n  'Language': ['English', 'Lao'],\n  'Budget': '$35 million',\n  'Box office': '$57,718,089',\n  'Director': 'Roger Spottiswoode',\n  'Distributor': 'TriStar Pictures',\n  'Editor(s)': ['John Bloom', 'Lois Freeman-Fox'],\n  'Composer(s)': 'Charles Gross',\n  'Producer(s)': 'Daniel Melnick',\n  'Production company(s)': ['Carolco Pictures', 'IndieProd Company'],\n  'Writer(s)': ['John Eskow', 'Richard Rush']}]"
     },
     "metadata": {},
     "execution_count": 29
    }
   ],
   "source": [
    "# Check result dictionary\n",
    "cleanMovies[:3]"
   ]
  },
  {
   "cell_type": "code",
   "execution_count": 30,
   "metadata": {
    "tags": []
   },
   "outputs": [
    {
     "output_type": "stream",
     "name": "stdout",
     "text": "39\n"
    },
    {
     "output_type": "execute_result",
     "data": {
      "text/plain": "['Animation by',\n 'Audio format',\n 'Based on',\n 'Box office',\n 'Budget',\n 'Cinematography',\n 'Color process',\n 'Composer(s)',\n 'Country',\n 'Created by',\n 'Director',\n 'Distributor',\n 'Editor(s)',\n 'Executive producer(s)',\n 'Followed by',\n 'Genre',\n 'Label',\n 'Language',\n 'Narrated by',\n 'Original language(s)',\n 'Original network',\n 'Picture format',\n 'Preceded by',\n 'Producer(s)',\n 'Production company(s)',\n 'Production location(s)',\n 'Recorded',\n 'Release date',\n 'Running time',\n 'Starring',\n 'Suggested by',\n 'Venue',\n 'Voices of',\n 'Writer(s)',\n 'alt_titles',\n 'imdb_link',\n 'title',\n 'url',\n 'year']"
     },
     "metadata": {},
     "execution_count": 30
    }
   ],
   "source": [
    "# Create dataframe with cleaned data\n",
    "wikiMoviesDF = pd.DataFrame(cleanMovies)\n",
    "# Print the number of columns after the reduction\n",
    "print(len(wikiMoviesDF.columns.to_list()))\n",
    "# Print column names\n",
    "sorted(wikiMoviesDF.columns.to_list())"
   ]
  },
  {
   "cell_type": "code",
   "execution_count": 31,
   "metadata": {
    "tags": []
   },
   "outputs": [
    {
     "output_type": "stream",
     "name": "stdout",
     "text": "Before duplicates drop: 7076 rows\nAfter duplicates drop: 7033 rows\n"
    },
    {
     "output_type": "execute_result",
     "data": {
      "text/plain": "                                                 url  year  \\\n0  https://en.wikipedia.org/wiki/The_Adventures_o...  1990   \n1  https://en.wikipedia.org/wiki/After_Dark,_My_S...  1990   \n2   https://en.wikipedia.org/wiki/Air_America_(film)  1990   \n3    https://en.wikipedia.org/wiki/Alice_(1990_film)  1990   \n4      https://en.wikipedia.org/wiki/Almost_an_Angel  1990   \n\n                               imdb_link                            title  \\\n0  https://www.imdb.com/title/tt0098987/  The Adventures of Ford Fairlane   \n1  https://www.imdb.com/title/tt0098994/             After Dark, My Sweet   \n2  https://www.imdb.com/title/tt0099005/                      Air America   \n3  https://www.imdb.com/title/tt0099012/                            Alice   \n4  https://www.imdb.com/title/tt0099018/                  Almost an Angel   \n\n                                            Based on  \\\n0                        [Characters, by Rex Weiner]   \n1  [the novel, After Dark, My Sweet, by, Jim Thom...   \n2             [Air America, by, Christopher Robbins]   \n3                                                NaN   \n4                                                NaN   \n\n                                            Starring         Narrated by  \\\n0  [Andrew Dice Clay, Wayne Newton, Priscilla Pre...  Andrew \"Dice\" Clay   \n1  [Jason Patric, Rachel Ward, Bruce Dern, George...                 NaN   \n2  [Mel Gibson, Robert Downey Jr., Nancy Travis, ...                 NaN   \n3  [Alec Baldwin, Blythe Danner, Judy Davis, Mia ...                 NaN   \n4        [Paul Hogan, Elias Koteas, Linda Kozlowski]                 NaN   \n\n   Cinematography                                       Release date  \\\n0     Oliver Wood                  [July 11, 1990, (, 1990-07-11, )]   \n1    Mark Plummer  [May 17, 1990, (, 1990-05-17, ), (Cannes Film ...   \n2   Roger Deakins                [August 10, 1990, (, 1990-08-10, )]   \n3  Carlo Di Palma              [December 25, 1990, (, 1990-12-25, )]   \n4    Russell Boyd                                  December 19, 1990   \n\n  Running time  ... Created by Preceded by Suggested by alt_titles Recorded  \\\n0  102 minutes  ...        NaN         NaN          NaN        NaN      NaN   \n1  114 minutes  ...        NaN         NaN          NaN        NaN      NaN   \n2  113 minutes  ...        NaN         NaN          NaN        NaN      NaN   \n3  106 minutes  ...        NaN         NaN          NaN        NaN      NaN   \n4   95 minutes  ...        NaN         NaN          NaN        NaN      NaN   \n\n  Venue Label Animation by Color process    imdb_id  \n0   NaN   NaN          NaN           NaN  tt0098987  \n1   NaN   NaN          NaN           NaN  tt0098994  \n2   NaN   NaN          NaN           NaN  tt0099005  \n3   NaN   NaN          NaN           NaN  tt0099012  \n4   NaN   NaN          NaN           NaN  tt0099018  \n\n[5 rows x 40 columns]",
      "text/html": "<div>\n<style scoped>\n    .dataframe tbody tr th:only-of-type {\n        vertical-align: middle;\n    }\n\n    .dataframe tbody tr th {\n        vertical-align: top;\n    }\n\n    .dataframe thead th {\n        text-align: right;\n    }\n</style>\n<table border=\"1\" class=\"dataframe\">\n  <thead>\n    <tr style=\"text-align: right;\">\n      <th></th>\n      <th>url</th>\n      <th>year</th>\n      <th>imdb_link</th>\n      <th>title</th>\n      <th>Based on</th>\n      <th>Starring</th>\n      <th>Narrated by</th>\n      <th>Cinematography</th>\n      <th>Release date</th>\n      <th>Running time</th>\n      <th>...</th>\n      <th>Created by</th>\n      <th>Preceded by</th>\n      <th>Suggested by</th>\n      <th>alt_titles</th>\n      <th>Recorded</th>\n      <th>Venue</th>\n      <th>Label</th>\n      <th>Animation by</th>\n      <th>Color process</th>\n      <th>imdb_id</th>\n    </tr>\n  </thead>\n  <tbody>\n    <tr>\n      <th>0</th>\n      <td>https://en.wikipedia.org/wiki/The_Adventures_o...</td>\n      <td>1990</td>\n      <td>https://www.imdb.com/title/tt0098987/</td>\n      <td>The Adventures of Ford Fairlane</td>\n      <td>[Characters, by Rex Weiner]</td>\n      <td>[Andrew Dice Clay, Wayne Newton, Priscilla Pre...</td>\n      <td>Andrew \"Dice\" Clay</td>\n      <td>Oliver Wood</td>\n      <td>[July 11, 1990, (, 1990-07-11, )]</td>\n      <td>102 minutes</td>\n      <td>...</td>\n      <td>NaN</td>\n      <td>NaN</td>\n      <td>NaN</td>\n      <td>NaN</td>\n      <td>NaN</td>\n      <td>NaN</td>\n      <td>NaN</td>\n      <td>NaN</td>\n      <td>NaN</td>\n      <td>tt0098987</td>\n    </tr>\n    <tr>\n      <th>1</th>\n      <td>https://en.wikipedia.org/wiki/After_Dark,_My_S...</td>\n      <td>1990</td>\n      <td>https://www.imdb.com/title/tt0098994/</td>\n      <td>After Dark, My Sweet</td>\n      <td>[the novel, After Dark, My Sweet, by, Jim Thom...</td>\n      <td>[Jason Patric, Rachel Ward, Bruce Dern, George...</td>\n      <td>NaN</td>\n      <td>Mark Plummer</td>\n      <td>[May 17, 1990, (, 1990-05-17, ), (Cannes Film ...</td>\n      <td>114 minutes</td>\n      <td>...</td>\n      <td>NaN</td>\n      <td>NaN</td>\n      <td>NaN</td>\n      <td>NaN</td>\n      <td>NaN</td>\n      <td>NaN</td>\n      <td>NaN</td>\n      <td>NaN</td>\n      <td>NaN</td>\n      <td>tt0098994</td>\n    </tr>\n    <tr>\n      <th>2</th>\n      <td>https://en.wikipedia.org/wiki/Air_America_(film)</td>\n      <td>1990</td>\n      <td>https://www.imdb.com/title/tt0099005/</td>\n      <td>Air America</td>\n      <td>[Air America, by, Christopher Robbins]</td>\n      <td>[Mel Gibson, Robert Downey Jr., Nancy Travis, ...</td>\n      <td>NaN</td>\n      <td>Roger Deakins</td>\n      <td>[August 10, 1990, (, 1990-08-10, )]</td>\n      <td>113 minutes</td>\n      <td>...</td>\n      <td>NaN</td>\n      <td>NaN</td>\n      <td>NaN</td>\n      <td>NaN</td>\n      <td>NaN</td>\n      <td>NaN</td>\n      <td>NaN</td>\n      <td>NaN</td>\n      <td>NaN</td>\n      <td>tt0099005</td>\n    </tr>\n    <tr>\n      <th>3</th>\n      <td>https://en.wikipedia.org/wiki/Alice_(1990_film)</td>\n      <td>1990</td>\n      <td>https://www.imdb.com/title/tt0099012/</td>\n      <td>Alice</td>\n      <td>NaN</td>\n      <td>[Alec Baldwin, Blythe Danner, Judy Davis, Mia ...</td>\n      <td>NaN</td>\n      <td>Carlo Di Palma</td>\n      <td>[December 25, 1990, (, 1990-12-25, )]</td>\n      <td>106 minutes</td>\n      <td>...</td>\n      <td>NaN</td>\n      <td>NaN</td>\n      <td>NaN</td>\n      <td>NaN</td>\n      <td>NaN</td>\n      <td>NaN</td>\n      <td>NaN</td>\n      <td>NaN</td>\n      <td>NaN</td>\n      <td>tt0099012</td>\n    </tr>\n    <tr>\n      <th>4</th>\n      <td>https://en.wikipedia.org/wiki/Almost_an_Angel</td>\n      <td>1990</td>\n      <td>https://www.imdb.com/title/tt0099018/</td>\n      <td>Almost an Angel</td>\n      <td>NaN</td>\n      <td>[Paul Hogan, Elias Koteas, Linda Kozlowski]</td>\n      <td>NaN</td>\n      <td>Russell Boyd</td>\n      <td>December 19, 1990</td>\n      <td>95 minutes</td>\n      <td>...</td>\n      <td>NaN</td>\n      <td>NaN</td>\n      <td>NaN</td>\n      <td>NaN</td>\n      <td>NaN</td>\n      <td>NaN</td>\n      <td>NaN</td>\n      <td>NaN</td>\n      <td>NaN</td>\n      <td>tt0099018</td>\n    </tr>\n  </tbody>\n</table>\n<p>5 rows × 40 columns</p>\n</div>"
     },
     "metadata": {},
     "execution_count": 31
    }
   ],
   "source": [
    "wikiMoviesDF[\"imdb_id\"] = wikiMoviesDF[\"imdb_link\"].str.extract(r\"(tt\\d{7})\")\n",
    "# Print wikiMoviesDF size before duplicates drop\n",
    "print(f\"Before duplicates drop: {len(wikiMoviesDF)} rows\")\n",
    "wikiMoviesDF.drop_duplicates(subset=\"imdb_id\", inplace=True)\n",
    "# Print wikiMoviesDF size after duplicates drop\n",
    "print(f\"After duplicates drop: {len(wikiMoviesDF)} rows\")\n",
    "wikiMoviesDF.head()\n"
   ]
  }
 ]
}